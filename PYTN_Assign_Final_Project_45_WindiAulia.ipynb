{
 "cells": [
  {
   "cell_type": "markdown",
   "metadata": {},
   "source": [
    "<img src = \"https://logodownload.org/wp-content/uploads/2014/10/youtube-logo-9.png\" width = 700>\n",
    "<h1 align=center><font size = 5> Linear Regression for Data Trending Youtube Video // Final Project </font></h1>"
   ]
  },
  {
   "cell_type": "markdown",
   "metadata": {},
   "source": [
    "YouTube (the world-famous video sharing website) maintains a list of the top trending videos on the platform. According to Variety magazine, “To determine the year’s top-trending videos, YouTube uses a combination of factors including measuring users interactions (number of views, shares, comments and likes). Note that they’re not the most-viewed videos overall for the calendar year”. Top performers on the YouTube trending list are music videos (such as the famously virile “Gangam Style”), celebrity and/or reality TV performances, and the random dude-with-a-camera viral videos that YouTube is well-known for.\n",
    "\n",
    "This dataset is a daily record of the top trending YouTube videos."
   ]
  },
  {
   "cell_type": "markdown",
   "metadata": {},
   "source": [
    "This dataset includes several months (and counting) of data on daily trending YouTube videos.\n",
    "Data is included for the KR (South Korea) with up to 200 listed trending videos per day.\n",
    "\n",
    "Attributes :\n",
    "1. video title\n",
    "2. channel title\n",
    "3. publish time\n",
    "4. tags\n",
    "5. views\n",
    "6. likes and dislikes\n",
    "7. description\n",
    "8. comment count.\n",
    "\n",
    "The data also includes a category_id field. To retrieve the categories for a specific video, find it in the associated JSON."
   ]
  },
  {
   "cell_type": "markdown",
   "metadata": {},
   "source": [
    "## Data Preparation\n",
    "\n",
    "Load the library you need\n",
    "\n",
    "Get the Trending Youtube Video Dataset from [here](https://www.kaggle.com/datasnaek/youtube-new) and load the dataframe to your notebook."
   ]
  },
  {
   "cell_type": "code",
   "execution_count": 1,
   "metadata": {},
   "outputs": [],
   "source": [
    "# Get your import statement here\n",
    "import numpy as np\n",
    "import pandas as pd\n",
    "import seaborn as sns\n",
    "import matplotlib.pyplot as plt\n",
    "import json\n",
    "import datetime as dt\n",
    "from datetime import time\n",
    "from sklearn import metrics\n",
    "from sklearn.linear_model import LinearRegression\n",
    "from sklearn.model_selection import train_test_split\n",
    "from sklearn.metrics import r2_score,mean_squared_error\n",
    "import statsmodels.api as sm"
   ]
  },
  {
   "cell_type": "code",
   "execution_count": 2,
   "metadata": {},
   "outputs": [
    {
     "name": "stdout",
     "output_type": "stream",
     "text": [
      "Data read into a pandas dataframe!\n"
     ]
    },
    {
     "data": {
      "text/html": [
       "<div>\n",
       "<style scoped>\n",
       "    .dataframe tbody tr th:only-of-type {\n",
       "        vertical-align: middle;\n",
       "    }\n",
       "\n",
       "    .dataframe tbody tr th {\n",
       "        vertical-align: top;\n",
       "    }\n",
       "\n",
       "    .dataframe thead th {\n",
       "        text-align: right;\n",
       "    }\n",
       "</style>\n",
       "<table border=\"1\" class=\"dataframe\">\n",
       "  <thead>\n",
       "    <tr style=\"text-align: right;\">\n",
       "      <th></th>\n",
       "      <th>video_id</th>\n",
       "      <th>trending_date</th>\n",
       "      <th>category_id</th>\n",
       "      <th>publish_time</th>\n",
       "      <th>views</th>\n",
       "      <th>likes</th>\n",
       "      <th>dislikes</th>\n",
       "      <th>comment_count</th>\n",
       "      <th>thumbnail_link</th>\n",
       "      <th>comments_disabled</th>\n",
       "      <th>ratings_disabled</th>\n",
       "      <th>video_error_or_removed</th>\n",
       "    </tr>\n",
       "  </thead>\n",
       "  <tbody>\n",
       "    <tr>\n",
       "      <th>0</th>\n",
       "      <td>RxGQe4EeEpA</td>\n",
       "      <td>17.14.11</td>\n",
       "      <td>22</td>\n",
       "      <td>2017-11-13T07:07:36.000Z</td>\n",
       "      <td>156130</td>\n",
       "      <td>1422</td>\n",
       "      <td>40</td>\n",
       "      <td>272</td>\n",
       "      <td>https://i.ytimg.com/vi/RxGQe4EeEpA/default.jpg</td>\n",
       "      <td>False</td>\n",
       "      <td>False</td>\n",
       "      <td>False</td>\n",
       "    </tr>\n",
       "    <tr>\n",
       "      <th>1</th>\n",
       "      <td>hH7wVE8OlQ0</td>\n",
       "      <td>17.14.11</td>\n",
       "      <td>25</td>\n",
       "      <td>2017-11-13T10:59:16.000Z</td>\n",
       "      <td>76533</td>\n",
       "      <td>211</td>\n",
       "      <td>28</td>\n",
       "      <td>113</td>\n",
       "      <td>https://i.ytimg.com/vi/hH7wVE8OlQ0/default.jpg</td>\n",
       "      <td>False</td>\n",
       "      <td>False</td>\n",
       "      <td>False</td>\n",
       "    </tr>\n",
       "    <tr>\n",
       "      <th>2</th>\n",
       "      <td>9V8bnWUmE9U</td>\n",
       "      <td>17.14.11</td>\n",
       "      <td>22</td>\n",
       "      <td>2017-11-11T07:16:08.000Z</td>\n",
       "      <td>421409</td>\n",
       "      <td>5112</td>\n",
       "      <td>166</td>\n",
       "      <td>459</td>\n",
       "      <td>https://i.ytimg.com/vi/9V8bnWUmE9U/default.jpg</td>\n",
       "      <td>False</td>\n",
       "      <td>False</td>\n",
       "      <td>False</td>\n",
       "    </tr>\n",
       "    <tr>\n",
       "      <th>3</th>\n",
       "      <td>0_8py-t5R80</td>\n",
       "      <td>17.14.11</td>\n",
       "      <td>25</td>\n",
       "      <td>2017-11-12T11:19:52.000Z</td>\n",
       "      <td>222850</td>\n",
       "      <td>2093</td>\n",
       "      <td>173</td>\n",
       "      <td>1219</td>\n",
       "      <td>https://i.ytimg.com/vi/0_8py-t5R80/default.jpg</td>\n",
       "      <td>False</td>\n",
       "      <td>False</td>\n",
       "      <td>False</td>\n",
       "    </tr>\n",
       "    <tr>\n",
       "      <th>4</th>\n",
       "      <td>bk55RbxiQdI</td>\n",
       "      <td>17.14.11</td>\n",
       "      <td>25</td>\n",
       "      <td>2017-11-13T11:08:59.000Z</td>\n",
       "      <td>84466</td>\n",
       "      <td>1094</td>\n",
       "      <td>109</td>\n",
       "      <td>450</td>\n",
       "      <td>https://i.ytimg.com/vi/bk55RbxiQdI/default.jpg</td>\n",
       "      <td>False</td>\n",
       "      <td>False</td>\n",
       "      <td>False</td>\n",
       "    </tr>\n",
       "    <tr>\n",
       "      <th>...</th>\n",
       "      <td>...</td>\n",
       "      <td>...</td>\n",
       "      <td>...</td>\n",
       "      <td>...</td>\n",
       "      <td>...</td>\n",
       "      <td>...</td>\n",
       "      <td>...</td>\n",
       "      <td>...</td>\n",
       "      <td>...</td>\n",
       "      <td>...</td>\n",
       "      <td>...</td>\n",
       "      <td>...</td>\n",
       "    </tr>\n",
       "    <tr>\n",
       "      <th>34562</th>\n",
       "      <td>pj6YBBrO1sQ</td>\n",
       "      <td>18.14.06</td>\n",
       "      <td>24</td>\n",
       "      <td>2018-06-10T23:00:01.000Z</td>\n",
       "      <td>156439</td>\n",
       "      <td>383</td>\n",
       "      <td>58</td>\n",
       "      <td>308</td>\n",
       "      <td>https://i.ytimg.com/vi/pj6YBBrO1sQ/default.jpg</td>\n",
       "      <td>False</td>\n",
       "      <td>False</td>\n",
       "      <td>False</td>\n",
       "    </tr>\n",
       "    <tr>\n",
       "      <th>34563</th>\n",
       "      <td>_Ne9ER-jr20</td>\n",
       "      <td>18.14.06</td>\n",
       "      <td>24</td>\n",
       "      <td>2018-06-12T07:00:06.000Z</td>\n",
       "      <td>130948</td>\n",
       "      <td>3121</td>\n",
       "      <td>55</td>\n",
       "      <td>988</td>\n",
       "      <td>https://i.ytimg.com/vi/_Ne9ER-jr20/default.jpg</td>\n",
       "      <td>False</td>\n",
       "      <td>False</td>\n",
       "      <td>False</td>\n",
       "    </tr>\n",
       "    <tr>\n",
       "      <th>34564</th>\n",
       "      <td>xuOQq_fzEjk</td>\n",
       "      <td>18.14.06</td>\n",
       "      <td>25</td>\n",
       "      <td>2018-06-12T13:17:29.000Z</td>\n",
       "      <td>62555</td>\n",
       "      <td>319</td>\n",
       "      <td>71</td>\n",
       "      <td>105</td>\n",
       "      <td>https://i.ytimg.com/vi/xuOQq_fzEjk/default.jpg</td>\n",
       "      <td>False</td>\n",
       "      <td>False</td>\n",
       "      <td>False</td>\n",
       "    </tr>\n",
       "    <tr>\n",
       "      <th>34565</th>\n",
       "      <td>uXvjxeg08eQ</td>\n",
       "      <td>18.14.06</td>\n",
       "      <td>22</td>\n",
       "      <td>2018-06-11T11:57:20.000Z</td>\n",
       "      <td>63306</td>\n",
       "      <td>2369</td>\n",
       "      <td>27</td>\n",
       "      <td>571</td>\n",
       "      <td>https://i.ytimg.com/vi/uXvjxeg08eQ/default.jpg</td>\n",
       "      <td>False</td>\n",
       "      <td>False</td>\n",
       "      <td>False</td>\n",
       "    </tr>\n",
       "    <tr>\n",
       "      <th>34566</th>\n",
       "      <td>C-bLqIftDY4</td>\n",
       "      <td>18.14.06</td>\n",
       "      <td>29</td>\n",
       "      <td>2018-06-10T20:00:01.000Z</td>\n",
       "      <td>63716</td>\n",
       "      <td>500</td>\n",
       "      <td>58</td>\n",
       "      <td>135</td>\n",
       "      <td>https://i.ytimg.com/vi/C-bLqIftDY4/default.jpg</td>\n",
       "      <td>False</td>\n",
       "      <td>False</td>\n",
       "      <td>False</td>\n",
       "    </tr>\n",
       "  </tbody>\n",
       "</table>\n",
       "<p>34567 rows × 12 columns</p>\n",
       "</div>"
      ],
      "text/plain": [
       "          video_id trending_date  category_id              publish_time  \\\n",
       "0      RxGQe4EeEpA      17.14.11           22  2017-11-13T07:07:36.000Z   \n",
       "1      hH7wVE8OlQ0      17.14.11           25  2017-11-13T10:59:16.000Z   \n",
       "2      9V8bnWUmE9U      17.14.11           22  2017-11-11T07:16:08.000Z   \n",
       "3      0_8py-t5R80      17.14.11           25  2017-11-12T11:19:52.000Z   \n",
       "4      bk55RbxiQdI      17.14.11           25  2017-11-13T11:08:59.000Z   \n",
       "...            ...           ...          ...                       ...   \n",
       "34562  pj6YBBrO1sQ      18.14.06           24  2018-06-10T23:00:01.000Z   \n",
       "34563  _Ne9ER-jr20      18.14.06           24  2018-06-12T07:00:06.000Z   \n",
       "34564  xuOQq_fzEjk      18.14.06           25  2018-06-12T13:17:29.000Z   \n",
       "34565  uXvjxeg08eQ      18.14.06           22  2018-06-11T11:57:20.000Z   \n",
       "34566  C-bLqIftDY4      18.14.06           29  2018-06-10T20:00:01.000Z   \n",
       "\n",
       "        views  likes  dislikes  comment_count  \\\n",
       "0      156130   1422        40            272   \n",
       "1       76533    211        28            113   \n",
       "2      421409   5112       166            459   \n",
       "3      222850   2093       173           1219   \n",
       "4       84466   1094       109            450   \n",
       "...       ...    ...       ...            ...   \n",
       "34562  156439    383        58            308   \n",
       "34563  130948   3121        55            988   \n",
       "34564   62555    319        71            105   \n",
       "34565   63306   2369        27            571   \n",
       "34566   63716    500        58            135   \n",
       "\n",
       "                                       thumbnail_link  comments_disabled  \\\n",
       "0      https://i.ytimg.com/vi/RxGQe4EeEpA/default.jpg              False   \n",
       "1      https://i.ytimg.com/vi/hH7wVE8OlQ0/default.jpg              False   \n",
       "2      https://i.ytimg.com/vi/9V8bnWUmE9U/default.jpg              False   \n",
       "3      https://i.ytimg.com/vi/0_8py-t5R80/default.jpg              False   \n",
       "4      https://i.ytimg.com/vi/bk55RbxiQdI/default.jpg              False   \n",
       "...                                               ...                ...   \n",
       "34562  https://i.ytimg.com/vi/pj6YBBrO1sQ/default.jpg              False   \n",
       "34563  https://i.ytimg.com/vi/_Ne9ER-jr20/default.jpg              False   \n",
       "34564  https://i.ytimg.com/vi/xuOQq_fzEjk/default.jpg              False   \n",
       "34565  https://i.ytimg.com/vi/uXvjxeg08eQ/default.jpg              False   \n",
       "34566  https://i.ytimg.com/vi/C-bLqIftDY4/default.jpg              False   \n",
       "\n",
       "       ratings_disabled  video_error_or_removed  \n",
       "0                 False                   False  \n",
       "1                 False                   False  \n",
       "2                 False                   False  \n",
       "3                 False                   False  \n",
       "4                 False                   False  \n",
       "...                 ...                     ...  \n",
       "34562             False                   False  \n",
       "34563             False                   False  \n",
       "34564             False                   False  \n",
       "34565             False                   False  \n",
       "34566             False                   False  \n",
       "\n",
       "[34567 rows x 12 columns]"
      ]
     },
     "execution_count": 2,
     "metadata": {},
     "output_type": "execute_result"
    }
   ],
   "source": [
    "# Load your dataset here\n",
    "KR_video = pd.read_csv(\"data/KRvideos.csv\")\n",
    "print ('Data read into a pandas dataframe!')\n",
    "KR_video_categories = pd.read_json('data/KR_category_id.json')\n",
    "\n",
    "KR_video"
   ]
  },
  {
   "cell_type": "markdown",
   "metadata": {},
   "source": [
    "Let's view the top 5 rows of the dataset using the `head()` function."
   ]
  },
  {
   "cell_type": "code",
   "execution_count": 3,
   "metadata": {},
   "outputs": [
    {
     "data": {
      "text/html": [
       "<div>\n",
       "<style scoped>\n",
       "    .dataframe tbody tr th:only-of-type {\n",
       "        vertical-align: middle;\n",
       "    }\n",
       "\n",
       "    .dataframe tbody tr th {\n",
       "        vertical-align: top;\n",
       "    }\n",
       "\n",
       "    .dataframe thead th {\n",
       "        text-align: right;\n",
       "    }\n",
       "</style>\n",
       "<table border=\"1\" class=\"dataframe\">\n",
       "  <thead>\n",
       "    <tr style=\"text-align: right;\">\n",
       "      <th></th>\n",
       "      <th>video_id</th>\n",
       "      <th>trending_date</th>\n",
       "      <th>category_id</th>\n",
       "      <th>publish_time</th>\n",
       "      <th>views</th>\n",
       "      <th>likes</th>\n",
       "      <th>dislikes</th>\n",
       "      <th>comment_count</th>\n",
       "      <th>thumbnail_link</th>\n",
       "      <th>comments_disabled</th>\n",
       "      <th>ratings_disabled</th>\n",
       "      <th>video_error_or_removed</th>\n",
       "    </tr>\n",
       "  </thead>\n",
       "  <tbody>\n",
       "    <tr>\n",
       "      <th>0</th>\n",
       "      <td>RxGQe4EeEpA</td>\n",
       "      <td>17.14.11</td>\n",
       "      <td>22</td>\n",
       "      <td>2017-11-13T07:07:36.000Z</td>\n",
       "      <td>156130</td>\n",
       "      <td>1422</td>\n",
       "      <td>40</td>\n",
       "      <td>272</td>\n",
       "      <td>https://i.ytimg.com/vi/RxGQe4EeEpA/default.jpg</td>\n",
       "      <td>False</td>\n",
       "      <td>False</td>\n",
       "      <td>False</td>\n",
       "    </tr>\n",
       "    <tr>\n",
       "      <th>1</th>\n",
       "      <td>hH7wVE8OlQ0</td>\n",
       "      <td>17.14.11</td>\n",
       "      <td>25</td>\n",
       "      <td>2017-11-13T10:59:16.000Z</td>\n",
       "      <td>76533</td>\n",
       "      <td>211</td>\n",
       "      <td>28</td>\n",
       "      <td>113</td>\n",
       "      <td>https://i.ytimg.com/vi/hH7wVE8OlQ0/default.jpg</td>\n",
       "      <td>False</td>\n",
       "      <td>False</td>\n",
       "      <td>False</td>\n",
       "    </tr>\n",
       "    <tr>\n",
       "      <th>2</th>\n",
       "      <td>9V8bnWUmE9U</td>\n",
       "      <td>17.14.11</td>\n",
       "      <td>22</td>\n",
       "      <td>2017-11-11T07:16:08.000Z</td>\n",
       "      <td>421409</td>\n",
       "      <td>5112</td>\n",
       "      <td>166</td>\n",
       "      <td>459</td>\n",
       "      <td>https://i.ytimg.com/vi/9V8bnWUmE9U/default.jpg</td>\n",
       "      <td>False</td>\n",
       "      <td>False</td>\n",
       "      <td>False</td>\n",
       "    </tr>\n",
       "    <tr>\n",
       "      <th>3</th>\n",
       "      <td>0_8py-t5R80</td>\n",
       "      <td>17.14.11</td>\n",
       "      <td>25</td>\n",
       "      <td>2017-11-12T11:19:52.000Z</td>\n",
       "      <td>222850</td>\n",
       "      <td>2093</td>\n",
       "      <td>173</td>\n",
       "      <td>1219</td>\n",
       "      <td>https://i.ytimg.com/vi/0_8py-t5R80/default.jpg</td>\n",
       "      <td>False</td>\n",
       "      <td>False</td>\n",
       "      <td>False</td>\n",
       "    </tr>\n",
       "    <tr>\n",
       "      <th>4</th>\n",
       "      <td>bk55RbxiQdI</td>\n",
       "      <td>17.14.11</td>\n",
       "      <td>25</td>\n",
       "      <td>2017-11-13T11:08:59.000Z</td>\n",
       "      <td>84466</td>\n",
       "      <td>1094</td>\n",
       "      <td>109</td>\n",
       "      <td>450</td>\n",
       "      <td>https://i.ytimg.com/vi/bk55RbxiQdI/default.jpg</td>\n",
       "      <td>False</td>\n",
       "      <td>False</td>\n",
       "      <td>False</td>\n",
       "    </tr>\n",
       "  </tbody>\n",
       "</table>\n",
       "</div>"
      ],
      "text/plain": [
       "      video_id trending_date  category_id              publish_time   views  \\\n",
       "0  RxGQe4EeEpA      17.14.11           22  2017-11-13T07:07:36.000Z  156130   \n",
       "1  hH7wVE8OlQ0      17.14.11           25  2017-11-13T10:59:16.000Z   76533   \n",
       "2  9V8bnWUmE9U      17.14.11           22  2017-11-11T07:16:08.000Z  421409   \n",
       "3  0_8py-t5R80      17.14.11           25  2017-11-12T11:19:52.000Z  222850   \n",
       "4  bk55RbxiQdI      17.14.11           25  2017-11-13T11:08:59.000Z   84466   \n",
       "\n",
       "   likes  dislikes  comment_count  \\\n",
       "0   1422        40            272   \n",
       "1    211        28            113   \n",
       "2   5112       166            459   \n",
       "3   2093       173           1219   \n",
       "4   1094       109            450   \n",
       "\n",
       "                                   thumbnail_link  comments_disabled  \\\n",
       "0  https://i.ytimg.com/vi/RxGQe4EeEpA/default.jpg              False   \n",
       "1  https://i.ytimg.com/vi/hH7wVE8OlQ0/default.jpg              False   \n",
       "2  https://i.ytimg.com/vi/9V8bnWUmE9U/default.jpg              False   \n",
       "3  https://i.ytimg.com/vi/0_8py-t5R80/default.jpg              False   \n",
       "4  https://i.ytimg.com/vi/bk55RbxiQdI/default.jpg              False   \n",
       "\n",
       "   ratings_disabled  video_error_or_removed  \n",
       "0             False                   False  \n",
       "1             False                   False  \n",
       "2             False                   False  \n",
       "3             False                   False  \n",
       "4             False                   False  "
      ]
     },
     "execution_count": 3,
     "metadata": {},
     "output_type": "execute_result"
    }
   ],
   "source": [
    "KR_video.head()"
   ]
  },
  {
   "cell_type": "markdown",
   "metadata": {},
   "source": [
    "We can also veiw the bottom 5 rows of the dataset using the `tail()` function."
   ]
  },
  {
   "cell_type": "code",
   "execution_count": 4,
   "metadata": {},
   "outputs": [
    {
     "data": {
      "text/html": [
       "<div>\n",
       "<style scoped>\n",
       "    .dataframe tbody tr th:only-of-type {\n",
       "        vertical-align: middle;\n",
       "    }\n",
       "\n",
       "    .dataframe tbody tr th {\n",
       "        vertical-align: top;\n",
       "    }\n",
       "\n",
       "    .dataframe thead th {\n",
       "        text-align: right;\n",
       "    }\n",
       "</style>\n",
       "<table border=\"1\" class=\"dataframe\">\n",
       "  <thead>\n",
       "    <tr style=\"text-align: right;\">\n",
       "      <th></th>\n",
       "      <th>video_id</th>\n",
       "      <th>trending_date</th>\n",
       "      <th>category_id</th>\n",
       "      <th>publish_time</th>\n",
       "      <th>views</th>\n",
       "      <th>likes</th>\n",
       "      <th>dislikes</th>\n",
       "      <th>comment_count</th>\n",
       "      <th>thumbnail_link</th>\n",
       "      <th>comments_disabled</th>\n",
       "      <th>ratings_disabled</th>\n",
       "      <th>video_error_or_removed</th>\n",
       "    </tr>\n",
       "  </thead>\n",
       "  <tbody>\n",
       "    <tr>\n",
       "      <th>34562</th>\n",
       "      <td>pj6YBBrO1sQ</td>\n",
       "      <td>18.14.06</td>\n",
       "      <td>24</td>\n",
       "      <td>2018-06-10T23:00:01.000Z</td>\n",
       "      <td>156439</td>\n",
       "      <td>383</td>\n",
       "      <td>58</td>\n",
       "      <td>308</td>\n",
       "      <td>https://i.ytimg.com/vi/pj6YBBrO1sQ/default.jpg</td>\n",
       "      <td>False</td>\n",
       "      <td>False</td>\n",
       "      <td>False</td>\n",
       "    </tr>\n",
       "    <tr>\n",
       "      <th>34563</th>\n",
       "      <td>_Ne9ER-jr20</td>\n",
       "      <td>18.14.06</td>\n",
       "      <td>24</td>\n",
       "      <td>2018-06-12T07:00:06.000Z</td>\n",
       "      <td>130948</td>\n",
       "      <td>3121</td>\n",
       "      <td>55</td>\n",
       "      <td>988</td>\n",
       "      <td>https://i.ytimg.com/vi/_Ne9ER-jr20/default.jpg</td>\n",
       "      <td>False</td>\n",
       "      <td>False</td>\n",
       "      <td>False</td>\n",
       "    </tr>\n",
       "    <tr>\n",
       "      <th>34564</th>\n",
       "      <td>xuOQq_fzEjk</td>\n",
       "      <td>18.14.06</td>\n",
       "      <td>25</td>\n",
       "      <td>2018-06-12T13:17:29.000Z</td>\n",
       "      <td>62555</td>\n",
       "      <td>319</td>\n",
       "      <td>71</td>\n",
       "      <td>105</td>\n",
       "      <td>https://i.ytimg.com/vi/xuOQq_fzEjk/default.jpg</td>\n",
       "      <td>False</td>\n",
       "      <td>False</td>\n",
       "      <td>False</td>\n",
       "    </tr>\n",
       "    <tr>\n",
       "      <th>34565</th>\n",
       "      <td>uXvjxeg08eQ</td>\n",
       "      <td>18.14.06</td>\n",
       "      <td>22</td>\n",
       "      <td>2018-06-11T11:57:20.000Z</td>\n",
       "      <td>63306</td>\n",
       "      <td>2369</td>\n",
       "      <td>27</td>\n",
       "      <td>571</td>\n",
       "      <td>https://i.ytimg.com/vi/uXvjxeg08eQ/default.jpg</td>\n",
       "      <td>False</td>\n",
       "      <td>False</td>\n",
       "      <td>False</td>\n",
       "    </tr>\n",
       "    <tr>\n",
       "      <th>34566</th>\n",
       "      <td>C-bLqIftDY4</td>\n",
       "      <td>18.14.06</td>\n",
       "      <td>29</td>\n",
       "      <td>2018-06-10T20:00:01.000Z</td>\n",
       "      <td>63716</td>\n",
       "      <td>500</td>\n",
       "      <td>58</td>\n",
       "      <td>135</td>\n",
       "      <td>https://i.ytimg.com/vi/C-bLqIftDY4/default.jpg</td>\n",
       "      <td>False</td>\n",
       "      <td>False</td>\n",
       "      <td>False</td>\n",
       "    </tr>\n",
       "  </tbody>\n",
       "</table>\n",
       "</div>"
      ],
      "text/plain": [
       "          video_id trending_date  category_id              publish_time  \\\n",
       "34562  pj6YBBrO1sQ      18.14.06           24  2018-06-10T23:00:01.000Z   \n",
       "34563  _Ne9ER-jr20      18.14.06           24  2018-06-12T07:00:06.000Z   \n",
       "34564  xuOQq_fzEjk      18.14.06           25  2018-06-12T13:17:29.000Z   \n",
       "34565  uXvjxeg08eQ      18.14.06           22  2018-06-11T11:57:20.000Z   \n",
       "34566  C-bLqIftDY4      18.14.06           29  2018-06-10T20:00:01.000Z   \n",
       "\n",
       "        views  likes  dislikes  comment_count  \\\n",
       "34562  156439    383        58            308   \n",
       "34563  130948   3121        55            988   \n",
       "34564   62555    319        71            105   \n",
       "34565   63306   2369        27            571   \n",
       "34566   63716    500        58            135   \n",
       "\n",
       "                                       thumbnail_link  comments_disabled  \\\n",
       "34562  https://i.ytimg.com/vi/pj6YBBrO1sQ/default.jpg              False   \n",
       "34563  https://i.ytimg.com/vi/_Ne9ER-jr20/default.jpg              False   \n",
       "34564  https://i.ytimg.com/vi/xuOQq_fzEjk/default.jpg              False   \n",
       "34565  https://i.ytimg.com/vi/uXvjxeg08eQ/default.jpg              False   \n",
       "34566  https://i.ytimg.com/vi/C-bLqIftDY4/default.jpg              False   \n",
       "\n",
       "       ratings_disabled  video_error_or_removed  \n",
       "34562             False                   False  \n",
       "34563             False                   False  \n",
       "34564             False                   False  \n",
       "34565             False                   False  \n",
       "34566             False                   False  "
      ]
     },
     "execution_count": 4,
     "metadata": {},
     "output_type": "execute_result"
    }
   ],
   "source": [
    "KR_video.tail()"
   ]
  },
  {
   "cell_type": "markdown",
   "metadata": {},
   "source": [
    "To view the dimensions of the dataframe, we use the .shape parameter."
   ]
  },
  {
   "cell_type": "code",
   "execution_count": 5,
   "metadata": {},
   "outputs": [
    {
     "data": {
      "text/plain": [
       "(34567, 12)"
      ]
     },
     "execution_count": 5,
     "metadata": {},
     "output_type": "execute_result"
    }
   ],
   "source": [
    "KR_video.shape"
   ]
  },
  {
   "cell_type": "markdown",
   "metadata": {},
   "source": [
    "Let's view Dtype of each features in dataframe using .info() function."
   ]
  },
  {
   "cell_type": "code",
   "execution_count": 6,
   "metadata": {},
   "outputs": [
    {
     "name": "stdout",
     "output_type": "stream",
     "text": [
      "<class 'pandas.core.frame.DataFrame'>\n",
      "RangeIndex: 34567 entries, 0 to 34566\n",
      "Data columns (total 12 columns):\n",
      " #   Column                  Non-Null Count  Dtype \n",
      "---  ------                  --------------  ----- \n",
      " 0   video_id                34567 non-null  object\n",
      " 1   trending_date           34567 non-null  object\n",
      " 2   category_id             34567 non-null  int64 \n",
      " 3   publish_time            34567 non-null  object\n",
      " 4   views                   34567 non-null  int64 \n",
      " 5   likes                   34567 non-null  int64 \n",
      " 6   dislikes                34567 non-null  int64 \n",
      " 7   comment_count           34567 non-null  int64 \n",
      " 8   thumbnail_link          34567 non-null  object\n",
      " 9   comments_disabled       34567 non-null  bool  \n",
      " 10  ratings_disabled        34567 non-null  bool  \n",
      " 11  video_error_or_removed  34567 non-null  bool  \n",
      "dtypes: bool(3), int64(5), object(4)\n",
      "memory usage: 2.5+ MB\n"
     ]
    }
   ],
   "source": [
    "KR_video.info()"
   ]
  },
  {
   "cell_type": "markdown",
   "metadata": {},
   "source": [
    "## Exploratory & Preprocessing Data"
   ]
  },
  {
   "cell_type": "markdown",
   "metadata": {},
   "source": [
    "Our dataset is ready for checking missing values."
   ]
  },
  {
   "cell_type": "code",
   "execution_count": 7,
   "metadata": {},
   "outputs": [
    {
     "name": "stdout",
     "output_type": "stream",
     "text": [
      "Check if any column has null values :\n"
     ]
    },
    {
     "data": {
      "text/plain": [
       "video_id                  0\n",
       "trending_date             0\n",
       "category_id               0\n",
       "publish_time              0\n",
       "views                     0\n",
       "likes                     0\n",
       "dislikes                  0\n",
       "comment_count             0\n",
       "thumbnail_link            0\n",
       "comments_disabled         0\n",
       "ratings_disabled          0\n",
       "video_error_or_removed    0\n",
       "dtype: int64"
      ]
     },
     "execution_count": 7,
     "metadata": {},
     "output_type": "execute_result"
    }
   ],
   "source": [
    "print(\"Check if any column has null values :\")\n",
    "KR_video.isnull().sum()"
   ]
  },
  {
   "cell_type": "code",
   "execution_count": 8,
   "metadata": {},
   "outputs": [
    {
     "name": "stdout",
     "output_type": "stream",
     "text": [
      "Describe categorical data:\n"
     ]
    },
    {
     "data": {
      "text/html": [
       "<div>\n",
       "<style scoped>\n",
       "    .dataframe tbody tr th:only-of-type {\n",
       "        vertical-align: middle;\n",
       "    }\n",
       "\n",
       "    .dataframe tbody tr th {\n",
       "        vertical-align: top;\n",
       "    }\n",
       "\n",
       "    .dataframe thead th {\n",
       "        text-align: right;\n",
       "    }\n",
       "</style>\n",
       "<table border=\"1\" class=\"dataframe\">\n",
       "  <thead>\n",
       "    <tr style=\"text-align: right;\">\n",
       "      <th></th>\n",
       "      <th>video_id</th>\n",
       "      <th>trending_date</th>\n",
       "      <th>publish_time</th>\n",
       "      <th>thumbnail_link</th>\n",
       "      <th>comments_disabled</th>\n",
       "      <th>ratings_disabled</th>\n",
       "      <th>video_error_or_removed</th>\n",
       "    </tr>\n",
       "  </thead>\n",
       "  <tbody>\n",
       "    <tr>\n",
       "      <th>count</th>\n",
       "      <td>34567</td>\n",
       "      <td>34567</td>\n",
       "      <td>34567</td>\n",
       "      <td>34567</td>\n",
       "      <td>34567</td>\n",
       "      <td>34567</td>\n",
       "      <td>34567</td>\n",
       "    </tr>\n",
       "    <tr>\n",
       "      <th>unique</th>\n",
       "      <td>15876</td>\n",
       "      <td>205</td>\n",
       "      <td>15862</td>\n",
       "      <td>16089</td>\n",
       "      <td>2</td>\n",
       "      <td>2</td>\n",
       "      <td>2</td>\n",
       "    </tr>\n",
       "    <tr>\n",
       "      <th>top</th>\n",
       "      <td>#NAME?</td>\n",
       "      <td>18.10.06</td>\n",
       "      <td>2018-03-07T09:00:01.000Z</td>\n",
       "      <td>https://i.ytimg.com/vi/AKDuAzSwaPI/default.jpg</td>\n",
       "      <td>False</td>\n",
       "      <td>False</td>\n",
       "      <td>False</td>\n",
       "    </tr>\n",
       "    <tr>\n",
       "      <th>freq</th>\n",
       "      <td>443</td>\n",
       "      <td>200</td>\n",
       "      <td>18</td>\n",
       "      <td>10</td>\n",
       "      <td>34056</td>\n",
       "      <td>33167</td>\n",
       "      <td>34526</td>\n",
       "    </tr>\n",
       "  </tbody>\n",
       "</table>\n",
       "</div>"
      ],
      "text/plain": [
       "       video_id trending_date              publish_time  \\\n",
       "count     34567         34567                     34567   \n",
       "unique    15876           205                     15862   \n",
       "top      #NAME?      18.10.06  2018-03-07T09:00:01.000Z   \n",
       "freq        443           200                        18   \n",
       "\n",
       "                                        thumbnail_link comments_disabled  \\\n",
       "count                                            34567             34567   \n",
       "unique                                           16089                 2   \n",
       "top     https://i.ytimg.com/vi/AKDuAzSwaPI/default.jpg             False   \n",
       "freq                                                10             34056   \n",
       "\n",
       "       ratings_disabled video_error_or_removed  \n",
       "count             34567                  34567  \n",
       "unique                2                      2  \n",
       "top               False                  False  \n",
       "freq              33167                  34526  "
      ]
     },
     "execution_count": 8,
     "metadata": {},
     "output_type": "execute_result"
    }
   ],
   "source": [
    "print(\"Describe categorical data:\")\n",
    "KR_video.describe(exclude = \"number\")"
   ]
  },
  {
   "cell_type": "code",
   "execution_count": 9,
   "metadata": {},
   "outputs": [
    {
     "name": "stdout",
     "output_type": "stream",
     "text": [
      "Describe numerical data:\n"
     ]
    },
    {
     "data": {
      "text/html": [
       "<div>\n",
       "<style scoped>\n",
       "    .dataframe tbody tr th:only-of-type {\n",
       "        vertical-align: middle;\n",
       "    }\n",
       "\n",
       "    .dataframe tbody tr th {\n",
       "        vertical-align: top;\n",
       "    }\n",
       "\n",
       "    .dataframe thead th {\n",
       "        text-align: right;\n",
       "    }\n",
       "</style>\n",
       "<table border=\"1\" class=\"dataframe\">\n",
       "  <thead>\n",
       "    <tr style=\"text-align: right;\">\n",
       "      <th></th>\n",
       "      <th>category_id</th>\n",
       "      <th>views</th>\n",
       "      <th>likes</th>\n",
       "      <th>dislikes</th>\n",
       "      <th>comment_count</th>\n",
       "    </tr>\n",
       "  </thead>\n",
       "  <tbody>\n",
       "    <tr>\n",
       "      <th>count</th>\n",
       "      <td>34567.000000</td>\n",
       "      <td>3.456700e+04</td>\n",
       "      <td>3.456700e+04</td>\n",
       "      <td>3.456700e+04</td>\n",
       "      <td>3.456700e+04</td>\n",
       "    </tr>\n",
       "    <tr>\n",
       "      <th>mean</th>\n",
       "      <td>21.137675</td>\n",
       "      <td>4.249473e+05</td>\n",
       "      <td>1.218642e+04</td>\n",
       "      <td>5.390980e+02</td>\n",
       "      <td>2.025383e+03</td>\n",
       "    </tr>\n",
       "    <tr>\n",
       "      <th>std</th>\n",
       "      <td>6.675455</td>\n",
       "      <td>2.430637e+06</td>\n",
       "      <td>1.170531e+05</td>\n",
       "      <td>1.370852e+04</td>\n",
       "      <td>2.150677e+04</td>\n",
       "    </tr>\n",
       "    <tr>\n",
       "      <th>min</th>\n",
       "      <td>1.000000</td>\n",
       "      <td>2.050000e+03</td>\n",
       "      <td>0.000000e+00</td>\n",
       "      <td>0.000000e+00</td>\n",
       "      <td>0.000000e+00</td>\n",
       "    </tr>\n",
       "    <tr>\n",
       "      <th>25%</th>\n",
       "      <td>22.000000</td>\n",
       "      <td>4.776850e+04</td>\n",
       "      <td>4.120000e+02</td>\n",
       "      <td>2.100000e+01</td>\n",
       "      <td>1.050000e+02</td>\n",
       "    </tr>\n",
       "    <tr>\n",
       "      <th>50%</th>\n",
       "      <td>24.000000</td>\n",
       "      <td>1.114960e+05</td>\n",
       "      <td>1.389000e+03</td>\n",
       "      <td>6.500000e+01</td>\n",
       "      <td>3.450000e+02</td>\n",
       "    </tr>\n",
       "    <tr>\n",
       "      <th>75%</th>\n",
       "      <td>25.000000</td>\n",
       "      <td>2.788665e+05</td>\n",
       "      <td>3.704500e+03</td>\n",
       "      <td>1.750000e+02</td>\n",
       "      <td>9.290000e+02</td>\n",
       "    </tr>\n",
       "    <tr>\n",
       "      <th>max</th>\n",
       "      <td>44.000000</td>\n",
       "      <td>1.138762e+08</td>\n",
       "      <td>5.150839e+06</td>\n",
       "      <td>1.470388e+06</td>\n",
       "      <td>1.142274e+06</td>\n",
       "    </tr>\n",
       "  </tbody>\n",
       "</table>\n",
       "</div>"
      ],
      "text/plain": [
       "        category_id         views         likes      dislikes  comment_count\n",
       "count  34567.000000  3.456700e+04  3.456700e+04  3.456700e+04   3.456700e+04\n",
       "mean      21.137675  4.249473e+05  1.218642e+04  5.390980e+02   2.025383e+03\n",
       "std        6.675455  2.430637e+06  1.170531e+05  1.370852e+04   2.150677e+04\n",
       "min        1.000000  2.050000e+03  0.000000e+00  0.000000e+00   0.000000e+00\n",
       "25%       22.000000  4.776850e+04  4.120000e+02  2.100000e+01   1.050000e+02\n",
       "50%       24.000000  1.114960e+05  1.389000e+03  6.500000e+01   3.450000e+02\n",
       "75%       25.000000  2.788665e+05  3.704500e+03  1.750000e+02   9.290000e+02\n",
       "max       44.000000  1.138762e+08  5.150839e+06  1.470388e+06   1.142274e+06"
      ]
     },
     "execution_count": 9,
     "metadata": {},
     "output_type": "execute_result"
    }
   ],
   "source": [
    "print(\"Describe numerical data:\")\n",
    "KR_video.describe()"
   ]
  },
  {
   "cell_type": "markdown",
   "metadata": {},
   "source": [
    "Let's see category name in json data"
   ]
  },
  {
   "cell_type": "code",
   "execution_count": 10,
   "metadata": {},
   "outputs": [],
   "source": [
    "with open('data/KR_category_id.json') as f:\n",
    "    categories = json.load(f)['items']"
   ]
  },
  {
   "cell_type": "code",
   "execution_count": 11,
   "metadata": {},
   "outputs": [],
   "source": [
    "category_name = {}\n",
    "for category in categories:\n",
    "    category_name[int(category['id'])] = category['snippet']['title']\n",
    "KR_video['category_name'] = KR_video['category_id'].map(category_name)"
   ]
  },
  {
   "cell_type": "code",
   "execution_count": 12,
   "metadata": {},
   "outputs": [
    {
     "name": "stdout",
     "output_type": "stream",
     "text": [
      "{1: 'Film & Animation', 2: 'Autos & Vehicles', 10: 'Music', 15: 'Pets & Animals', 17: 'Sports', 18: 'Short Movies', 19: 'Travel & Events', 20: 'Gaming', 21: 'Videoblogging', 22: 'People & Blogs', 23: 'Comedy', 24: 'Entertainment', 25: 'News & Politics', 26: 'Howto & Style', 27: 'Education', 28: 'Science & Technology', 30: 'Movies', 31: 'Anime/Animation', 32: 'Action/Adventure', 33: 'Classics', 34: 'Comedy', 35: 'Documentary', 36: 'Drama', 37: 'Family', 38: 'Foreign', 39: 'Horror', 40: 'Sci-Fi/Fantasy', 41: 'Thriller', 42: 'Shorts', 43: 'Shows', 44: 'Trailers'}\n"
     ]
    }
   ],
   "source": [
    "print(category_name)"
   ]
  },
  {
   "cell_type": "code",
   "execution_count": 13,
   "metadata": {},
   "outputs": [
    {
     "name": "stdout",
     "output_type": "stream",
     "text": [
      "<class 'pandas.core.frame.DataFrame'>\n",
      "RangeIndex: 34567 entries, 0 to 34566\n",
      "Data columns (total 13 columns):\n",
      " #   Column                  Non-Null Count  Dtype \n",
      "---  ------                  --------------  ----- \n",
      " 0   video_id                34567 non-null  object\n",
      " 1   trending_date           34567 non-null  object\n",
      " 2   category_id             34567 non-null  int64 \n",
      " 3   publish_time            34567 non-null  object\n",
      " 4   views                   34567 non-null  int64 \n",
      " 5   likes                   34567 non-null  int64 \n",
      " 6   dislikes                34567 non-null  int64 \n",
      " 7   comment_count           34567 non-null  int64 \n",
      " 8   thumbnail_link          34567 non-null  object\n",
      " 9   comments_disabled       34567 non-null  bool  \n",
      " 10  ratings_disabled        34567 non-null  bool  \n",
      " 11  video_error_or_removed  34567 non-null  bool  \n",
      " 12  category_name           34279 non-null  object\n",
      "dtypes: bool(3), int64(5), object(5)\n",
      "memory usage: 2.7+ MB\n"
     ]
    }
   ],
   "source": [
    "KR_video.info()"
   ]
  },
  {
   "cell_type": "code",
   "execution_count": 14,
   "metadata": {},
   "outputs": [
    {
     "data": {
      "text/plain": [
       "video_id                    0\n",
       "trending_date               0\n",
       "category_id                 0\n",
       "publish_time                0\n",
       "views                       0\n",
       "likes                       0\n",
       "dislikes                    0\n",
       "comment_count               0\n",
       "thumbnail_link              0\n",
       "comments_disabled           0\n",
       "ratings_disabled            0\n",
       "video_error_or_removed      0\n",
       "category_name             288\n",
       "dtype: int64"
      ]
     },
     "execution_count": 14,
     "metadata": {},
     "output_type": "execute_result"
    }
   ],
   "source": [
    "KR_video.isnull().sum()"
   ]
  },
  {
   "cell_type": "code",
   "execution_count": 15,
   "metadata": {},
   "outputs": [],
   "source": [
    "KR_video['category_name'].fillna(value='None',inplace=True)"
   ]
  },
  {
   "cell_type": "code",
   "execution_count": 16,
   "metadata": {},
   "outputs": [
    {
     "data": {
      "text/plain": [
       "Entertainment           8955\n",
       "News & Politics         7582\n",
       "People & Blogs          7056\n",
       "Film & Animation        2200\n",
       "Comedy                  2056\n",
       "Music                   1825\n",
       "Gaming                  1392\n",
       "Sports                   936\n",
       "Pets & Animals           735\n",
       "Howto & Style            558\n",
       "Education                486\n",
       "None                     288\n",
       "Shows                    165\n",
       "Autos & Vehicles         120\n",
       "Science & Technology     115\n",
       "Travel & Events           96\n",
       "Trailers                   2\n",
       "Name: category_name, dtype: int64"
      ]
     },
     "execution_count": 16,
     "metadata": {},
     "output_type": "execute_result"
    }
   ],
   "source": [
    "# lets see how many videos are in each category\n",
    "KR_video['category_name'].value_counts()"
   ]
  },
  {
   "cell_type": "markdown",
   "metadata": {},
   "source": [
    "convert trending date to datetime"
   ]
  },
  {
   "cell_type": "code",
   "execution_count": 17,
   "metadata": {},
   "outputs": [],
   "source": [
    "KR_video['publish_time'] = pd.to_datetime(KR_video['publish_time'], format = '%Y-%m-%dT%H:%M:%S.%fZ')"
   ]
  },
  {
   "cell_type": "code",
   "execution_count": 18,
   "metadata": {},
   "outputs": [],
   "source": [
    "KR_video['publish_month'] = KR_video['publish_time'].dt.month"
   ]
  },
  {
   "cell_type": "code",
   "execution_count": 19,
   "metadata": {},
   "outputs": [],
   "source": [
    "KR_video['trending_date'] = pd.to_datetime(KR_video['trending_date'],format = '%y.%d.%m')\n",
    "KR_video['trending_month'] = KR_video['trending_date'].dt.month"
   ]
  },
  {
   "cell_type": "code",
   "execution_count": 20,
   "metadata": {},
   "outputs": [
    {
     "data": {
      "text/plain": [
       "Index(['video_id', 'trending_date', 'category_id', 'publish_time', 'views',\n",
       "       'likes', 'dislikes', 'comment_count', 'thumbnail_link',\n",
       "       'comments_disabled', 'ratings_disabled', 'video_error_or_removed',\n",
       "       'category_name', 'publish_month', 'trending_month'],\n",
       "      dtype='object')"
      ]
     },
     "execution_count": 20,
     "metadata": {},
     "output_type": "execute_result"
    }
   ],
   "source": [
    "KR_video.columns"
   ]
  },
  {
   "cell_type": "code",
   "execution_count": 21,
   "metadata": {},
   "outputs": [
    {
     "data": {
      "text/plain": [
       "Entertainment           8955\n",
       "News & Politics         7582\n",
       "People & Blogs          7056\n",
       "Film & Animation        2200\n",
       "Comedy                  2056\n",
       "Music                   1825\n",
       "Gaming                  1392\n",
       "Sports                   936\n",
       "Pets & Animals           735\n",
       "Howto & Style            558\n",
       "Education                486\n",
       "None                     288\n",
       "Shows                    165\n",
       "Autos & Vehicles         120\n",
       "Science & Technology     115\n",
       "Travel & Events           96\n",
       "Trailers                   2\n",
       "Name: category_name, dtype: int64"
      ]
     },
     "execution_count": 21,
     "metadata": {},
     "output_type": "execute_result"
    }
   ],
   "source": [
    "KR_video['category_name'].value_counts()"
   ]
  },
  {
   "cell_type": "code",
   "execution_count": 22,
   "metadata": {},
   "outputs": [
    {
     "data": {
      "text/html": [
       "<div>\n",
       "<style scoped>\n",
       "    .dataframe tbody tr th:only-of-type {\n",
       "        vertical-align: middle;\n",
       "    }\n",
       "\n",
       "    .dataframe tbody tr th {\n",
       "        vertical-align: top;\n",
       "    }\n",
       "\n",
       "    .dataframe thead th {\n",
       "        text-align: right;\n",
       "    }\n",
       "</style>\n",
       "<table border=\"1\" class=\"dataframe\">\n",
       "  <thead>\n",
       "    <tr style=\"text-align: right;\">\n",
       "      <th></th>\n",
       "      <th>video_id</th>\n",
       "      <th>trending_date</th>\n",
       "      <th>category_id</th>\n",
       "      <th>publish_time</th>\n",
       "      <th>views</th>\n",
       "      <th>likes</th>\n",
       "      <th>dislikes</th>\n",
       "      <th>comment_count</th>\n",
       "      <th>thumbnail_link</th>\n",
       "      <th>comments_disabled</th>\n",
       "      <th>ratings_disabled</th>\n",
       "      <th>video_error_or_removed</th>\n",
       "      <th>category_name</th>\n",
       "      <th>publish_month</th>\n",
       "      <th>trending_month</th>\n",
       "    </tr>\n",
       "  </thead>\n",
       "  <tbody>\n",
       "    <tr>\n",
       "      <th>0</th>\n",
       "      <td>RxGQe4EeEpA</td>\n",
       "      <td>2017-11-14</td>\n",
       "      <td>22</td>\n",
       "      <td>2017-11-13 07:07:36</td>\n",
       "      <td>156130</td>\n",
       "      <td>1422</td>\n",
       "      <td>40</td>\n",
       "      <td>272</td>\n",
       "      <td>https://i.ytimg.com/vi/RxGQe4EeEpA/default.jpg</td>\n",
       "      <td>False</td>\n",
       "      <td>False</td>\n",
       "      <td>False</td>\n",
       "      <td>People &amp; Blogs</td>\n",
       "      <td>11</td>\n",
       "      <td>11</td>\n",
       "    </tr>\n",
       "    <tr>\n",
       "      <th>1</th>\n",
       "      <td>hH7wVE8OlQ0</td>\n",
       "      <td>2017-11-14</td>\n",
       "      <td>25</td>\n",
       "      <td>2017-11-13 10:59:16</td>\n",
       "      <td>76533</td>\n",
       "      <td>211</td>\n",
       "      <td>28</td>\n",
       "      <td>113</td>\n",
       "      <td>https://i.ytimg.com/vi/hH7wVE8OlQ0/default.jpg</td>\n",
       "      <td>False</td>\n",
       "      <td>False</td>\n",
       "      <td>False</td>\n",
       "      <td>News &amp; Politics</td>\n",
       "      <td>11</td>\n",
       "      <td>11</td>\n",
       "    </tr>\n",
       "    <tr>\n",
       "      <th>2</th>\n",
       "      <td>9V8bnWUmE9U</td>\n",
       "      <td>2017-11-14</td>\n",
       "      <td>22</td>\n",
       "      <td>2017-11-11 07:16:08</td>\n",
       "      <td>421409</td>\n",
       "      <td>5112</td>\n",
       "      <td>166</td>\n",
       "      <td>459</td>\n",
       "      <td>https://i.ytimg.com/vi/9V8bnWUmE9U/default.jpg</td>\n",
       "      <td>False</td>\n",
       "      <td>False</td>\n",
       "      <td>False</td>\n",
       "      <td>People &amp; Blogs</td>\n",
       "      <td>11</td>\n",
       "      <td>11</td>\n",
       "    </tr>\n",
       "    <tr>\n",
       "      <th>3</th>\n",
       "      <td>0_8py-t5R80</td>\n",
       "      <td>2017-11-14</td>\n",
       "      <td>25</td>\n",
       "      <td>2017-11-12 11:19:52</td>\n",
       "      <td>222850</td>\n",
       "      <td>2093</td>\n",
       "      <td>173</td>\n",
       "      <td>1219</td>\n",
       "      <td>https://i.ytimg.com/vi/0_8py-t5R80/default.jpg</td>\n",
       "      <td>False</td>\n",
       "      <td>False</td>\n",
       "      <td>False</td>\n",
       "      <td>News &amp; Politics</td>\n",
       "      <td>11</td>\n",
       "      <td>11</td>\n",
       "    </tr>\n",
       "    <tr>\n",
       "      <th>4</th>\n",
       "      <td>bk55RbxiQdI</td>\n",
       "      <td>2017-11-14</td>\n",
       "      <td>25</td>\n",
       "      <td>2017-11-13 11:08:59</td>\n",
       "      <td>84466</td>\n",
       "      <td>1094</td>\n",
       "      <td>109</td>\n",
       "      <td>450</td>\n",
       "      <td>https://i.ytimg.com/vi/bk55RbxiQdI/default.jpg</td>\n",
       "      <td>False</td>\n",
       "      <td>False</td>\n",
       "      <td>False</td>\n",
       "      <td>News &amp; Politics</td>\n",
       "      <td>11</td>\n",
       "      <td>11</td>\n",
       "    </tr>\n",
       "  </tbody>\n",
       "</table>\n",
       "</div>"
      ],
      "text/plain": [
       "      video_id trending_date  category_id        publish_time   views  likes  \\\n",
       "0  RxGQe4EeEpA    2017-11-14           22 2017-11-13 07:07:36  156130   1422   \n",
       "1  hH7wVE8OlQ0    2017-11-14           25 2017-11-13 10:59:16   76533    211   \n",
       "2  9V8bnWUmE9U    2017-11-14           22 2017-11-11 07:16:08  421409   5112   \n",
       "3  0_8py-t5R80    2017-11-14           25 2017-11-12 11:19:52  222850   2093   \n",
       "4  bk55RbxiQdI    2017-11-14           25 2017-11-13 11:08:59   84466   1094   \n",
       "\n",
       "   dislikes  comment_count                                  thumbnail_link  \\\n",
       "0        40            272  https://i.ytimg.com/vi/RxGQe4EeEpA/default.jpg   \n",
       "1        28            113  https://i.ytimg.com/vi/hH7wVE8OlQ0/default.jpg   \n",
       "2       166            459  https://i.ytimg.com/vi/9V8bnWUmE9U/default.jpg   \n",
       "3       173           1219  https://i.ytimg.com/vi/0_8py-t5R80/default.jpg   \n",
       "4       109            450  https://i.ytimg.com/vi/bk55RbxiQdI/default.jpg   \n",
       "\n",
       "   comments_disabled  ratings_disabled  video_error_or_removed  \\\n",
       "0              False             False                   False   \n",
       "1              False             False                   False   \n",
       "2              False             False                   False   \n",
       "3              False             False                   False   \n",
       "4              False             False                   False   \n",
       "\n",
       "     category_name  publish_month  trending_month  \n",
       "0   People & Blogs             11              11  \n",
       "1  News & Politics             11              11  \n",
       "2   People & Blogs             11              11  \n",
       "3  News & Politics             11              11  \n",
       "4  News & Politics             11              11  "
      ]
     },
     "execution_count": 22,
     "metadata": {},
     "output_type": "execute_result"
    }
   ],
   "source": [
    "KR_video.head()"
   ]
  },
  {
   "cell_type": "code",
   "execution_count": 23,
   "metadata": {},
   "outputs": [],
   "source": [
    "like_percent = pd.DataFrame((KR_video['likes'] / KR_video['views']) * 100)\n",
    "dislike_percent = pd.DataFrame((KR_video['dislikes'] / KR_video['views']) * 100)\n",
    "KR_video['like_percent'] = like_percent\n",
    "KR_video['dislike_percent'] = dislike_percent"
   ]
  },
  {
   "cell_type": "code",
   "execution_count": 24,
   "metadata": {},
   "outputs": [],
   "source": [
    "KR_video['positive_or_negative'] = KR_video['like_percent'] > KR_video['dislike_percent']"
   ]
  },
  {
   "cell_type": "code",
   "execution_count": 25,
   "metadata": {},
   "outputs": [],
   "source": [
    "# comparing the likes to dislikes \n",
    "video_feel = []\n",
    "for item in KR_video['positive_or_negative']:\n",
    "    if item == True:\n",
    "        video_feel.append(1)\n",
    "    else:\n",
    "        video_feel.append(0)"
   ]
  },
  {
   "cell_type": "code",
   "execution_count": 26,
   "metadata": {},
   "outputs": [],
   "source": [
    "KR_video['positive_or_negative'] = video_feel"
   ]
  },
  {
   "cell_type": "code",
   "execution_count": 27,
   "metadata": {},
   "outputs": [
    {
     "data": {
      "text/html": [
       "<div>\n",
       "<style scoped>\n",
       "    .dataframe tbody tr th:only-of-type {\n",
       "        vertical-align: middle;\n",
       "    }\n",
       "\n",
       "    .dataframe tbody tr th {\n",
       "        vertical-align: top;\n",
       "    }\n",
       "\n",
       "    .dataframe thead th {\n",
       "        text-align: right;\n",
       "    }\n",
       "</style>\n",
       "<table border=\"1\" class=\"dataframe\">\n",
       "  <thead>\n",
       "    <tr style=\"text-align: right;\">\n",
       "      <th></th>\n",
       "      <th>video_id</th>\n",
       "      <th>trending_date</th>\n",
       "      <th>category_id</th>\n",
       "      <th>publish_time</th>\n",
       "      <th>views</th>\n",
       "      <th>likes</th>\n",
       "      <th>dislikes</th>\n",
       "      <th>comment_count</th>\n",
       "      <th>thumbnail_link</th>\n",
       "      <th>comments_disabled</th>\n",
       "      <th>ratings_disabled</th>\n",
       "      <th>video_error_or_removed</th>\n",
       "      <th>category_name</th>\n",
       "      <th>publish_month</th>\n",
       "      <th>trending_month</th>\n",
       "      <th>like_percent</th>\n",
       "      <th>dislike_percent</th>\n",
       "      <th>positive_or_negative</th>\n",
       "    </tr>\n",
       "  </thead>\n",
       "  <tbody>\n",
       "    <tr>\n",
       "      <th>0</th>\n",
       "      <td>RxGQe4EeEpA</td>\n",
       "      <td>2017-11-14</td>\n",
       "      <td>22</td>\n",
       "      <td>2017-11-13 07:07:36</td>\n",
       "      <td>156130</td>\n",
       "      <td>1422</td>\n",
       "      <td>40</td>\n",
       "      <td>272</td>\n",
       "      <td>https://i.ytimg.com/vi/RxGQe4EeEpA/default.jpg</td>\n",
       "      <td>False</td>\n",
       "      <td>False</td>\n",
       "      <td>False</td>\n",
       "      <td>People &amp; Blogs</td>\n",
       "      <td>11</td>\n",
       "      <td>11</td>\n",
       "      <td>0.910779</td>\n",
       "      <td>0.025620</td>\n",
       "      <td>1</td>\n",
       "    </tr>\n",
       "    <tr>\n",
       "      <th>1</th>\n",
       "      <td>hH7wVE8OlQ0</td>\n",
       "      <td>2017-11-14</td>\n",
       "      <td>25</td>\n",
       "      <td>2017-11-13 10:59:16</td>\n",
       "      <td>76533</td>\n",
       "      <td>211</td>\n",
       "      <td>28</td>\n",
       "      <td>113</td>\n",
       "      <td>https://i.ytimg.com/vi/hH7wVE8OlQ0/default.jpg</td>\n",
       "      <td>False</td>\n",
       "      <td>False</td>\n",
       "      <td>False</td>\n",
       "      <td>News &amp; Politics</td>\n",
       "      <td>11</td>\n",
       "      <td>11</td>\n",
       "      <td>0.275698</td>\n",
       "      <td>0.036586</td>\n",
       "      <td>1</td>\n",
       "    </tr>\n",
       "    <tr>\n",
       "      <th>2</th>\n",
       "      <td>9V8bnWUmE9U</td>\n",
       "      <td>2017-11-14</td>\n",
       "      <td>22</td>\n",
       "      <td>2017-11-11 07:16:08</td>\n",
       "      <td>421409</td>\n",
       "      <td>5112</td>\n",
       "      <td>166</td>\n",
       "      <td>459</td>\n",
       "      <td>https://i.ytimg.com/vi/9V8bnWUmE9U/default.jpg</td>\n",
       "      <td>False</td>\n",
       "      <td>False</td>\n",
       "      <td>False</td>\n",
       "      <td>People &amp; Blogs</td>\n",
       "      <td>11</td>\n",
       "      <td>11</td>\n",
       "      <td>1.213073</td>\n",
       "      <td>0.039392</td>\n",
       "      <td>1</td>\n",
       "    </tr>\n",
       "    <tr>\n",
       "      <th>3</th>\n",
       "      <td>0_8py-t5R80</td>\n",
       "      <td>2017-11-14</td>\n",
       "      <td>25</td>\n",
       "      <td>2017-11-12 11:19:52</td>\n",
       "      <td>222850</td>\n",
       "      <td>2093</td>\n",
       "      <td>173</td>\n",
       "      <td>1219</td>\n",
       "      <td>https://i.ytimg.com/vi/0_8py-t5R80/default.jpg</td>\n",
       "      <td>False</td>\n",
       "      <td>False</td>\n",
       "      <td>False</td>\n",
       "      <td>News &amp; Politics</td>\n",
       "      <td>11</td>\n",
       "      <td>11</td>\n",
       "      <td>0.939197</td>\n",
       "      <td>0.077631</td>\n",
       "      <td>1</td>\n",
       "    </tr>\n",
       "    <tr>\n",
       "      <th>4</th>\n",
       "      <td>bk55RbxiQdI</td>\n",
       "      <td>2017-11-14</td>\n",
       "      <td>25</td>\n",
       "      <td>2017-11-13 11:08:59</td>\n",
       "      <td>84466</td>\n",
       "      <td>1094</td>\n",
       "      <td>109</td>\n",
       "      <td>450</td>\n",
       "      <td>https://i.ytimg.com/vi/bk55RbxiQdI/default.jpg</td>\n",
       "      <td>False</td>\n",
       "      <td>False</td>\n",
       "      <td>False</td>\n",
       "      <td>News &amp; Politics</td>\n",
       "      <td>11</td>\n",
       "      <td>11</td>\n",
       "      <td>1.295196</td>\n",
       "      <td>0.129046</td>\n",
       "      <td>1</td>\n",
       "    </tr>\n",
       "  </tbody>\n",
       "</table>\n",
       "</div>"
      ],
      "text/plain": [
       "      video_id trending_date  category_id        publish_time   views  likes  \\\n",
       "0  RxGQe4EeEpA    2017-11-14           22 2017-11-13 07:07:36  156130   1422   \n",
       "1  hH7wVE8OlQ0    2017-11-14           25 2017-11-13 10:59:16   76533    211   \n",
       "2  9V8bnWUmE9U    2017-11-14           22 2017-11-11 07:16:08  421409   5112   \n",
       "3  0_8py-t5R80    2017-11-14           25 2017-11-12 11:19:52  222850   2093   \n",
       "4  bk55RbxiQdI    2017-11-14           25 2017-11-13 11:08:59   84466   1094   \n",
       "\n",
       "   dislikes  comment_count                                  thumbnail_link  \\\n",
       "0        40            272  https://i.ytimg.com/vi/RxGQe4EeEpA/default.jpg   \n",
       "1        28            113  https://i.ytimg.com/vi/hH7wVE8OlQ0/default.jpg   \n",
       "2       166            459  https://i.ytimg.com/vi/9V8bnWUmE9U/default.jpg   \n",
       "3       173           1219  https://i.ytimg.com/vi/0_8py-t5R80/default.jpg   \n",
       "4       109            450  https://i.ytimg.com/vi/bk55RbxiQdI/default.jpg   \n",
       "\n",
       "   comments_disabled  ratings_disabled  video_error_or_removed  \\\n",
       "0              False             False                   False   \n",
       "1              False             False                   False   \n",
       "2              False             False                   False   \n",
       "3              False             False                   False   \n",
       "4              False             False                   False   \n",
       "\n",
       "     category_name  publish_month  trending_month  like_percent  \\\n",
       "0   People & Blogs             11              11      0.910779   \n",
       "1  News & Politics             11              11      0.275698   \n",
       "2   People & Blogs             11              11      1.213073   \n",
       "3  News & Politics             11              11      0.939197   \n",
       "4  News & Politics             11              11      1.295196   \n",
       "\n",
       "   dislike_percent  positive_or_negative  \n",
       "0         0.025620                     1  \n",
       "1         0.036586                     1  \n",
       "2         0.039392                     1  \n",
       "3         0.077631                     1  \n",
       "4         0.129046                     1  "
      ]
     },
     "execution_count": 27,
     "metadata": {},
     "output_type": "execute_result"
    }
   ],
   "source": [
    "KR_video.head()"
   ]
  },
  {
   "cell_type": "markdown",
   "metadata": {},
   "source": [
    "## Visualization"
   ]
  },
  {
   "cell_type": "code",
   "execution_count": 28,
   "metadata": {},
   "outputs": [
    {
     "data": {
      "image/png": "[encoded data removed]",
      "text/plain": [
       "<Figure size 1440x1080 with 3 Axes>"
      ]
     },
     "metadata": {
      "needs_background": "light"
     },
     "output_type": "display_data"
    }
   ],
   "source": [
    "f, ax = plt.subplots(3,1,figsize=(20,15))\n",
    "g = sns.barplot(x=KR_video['trending_month'],y=KR_video['views'],data=KR_video,ax=ax[0])\n",
    "g.set_title('Views across trending months')\n",
    "g1 = sns.barplot(x=KR_video['trending_month'],y=KR_video['likes'],data=KR_video,ax=ax[1])\n",
    "g1.set_title('Likes across trending months')\n",
    "g2 = sns.barplot(x=KR_video['trending_month'],y=KR_video['dislikes'],data=KR_video,ax=ax[2])\n",
    "g2.set_title('Dislikes across trending months')\n",
    "plt.tight_layout()"
   ]
  },
  {
   "cell_type": "code",
   "execution_count": 29,
   "metadata": {},
   "outputs": [
    {
     "data": {
      "image/png": "[encoded data removed]",
      "text/plain": [
       "<Figure size 1080x720 with 1 Axes>"
      ]
     },
     "metadata": {
      "needs_background": "light"
     },
     "output_type": "display_data"
    }
   ],
   "source": [
    "plt.figure(figsize=(15,10))\n",
    "g = sns.barplot(x=KR_video['category_name'],y=KR_video['comment_count'],data=KR_video)\n",
    "g.set_xticklabels(g.get_xticklabels(),rotation=30)\n",
    "plt.title('Comments within Categories')\n",
    "plt.tight_layout()"
   ]
  },
  {
   "cell_type": "markdown",
   "metadata": {},
   "source": [
    "Insight : it looks like Music seem to have the most 'comment' activities"
   ]
  },
  {
   "cell_type": "code",
   "execution_count": 30,
   "metadata": {},
   "outputs": [
    {
     "data": {
      "text/plain": [
       "(13.5, -0.5)"
      ]
     },
     "execution_count": 30,
     "metadata": {},
     "output_type": "execute_result"
    },
    {
     "data": {
      "image/png": "[encoded data removed]",
      "text/plain": [
       "<Figure size 1080x720 with 2 Axes>"
      ]
     },
     "metadata": {
      "needs_background": "light"
     },
     "output_type": "display_data"
    }
   ],
   "source": [
    "plt.figure(figsize=(15,10))\n",
    "ax = sns.heatmap(KR_video.corr(),annot=True)\n",
    "bottom, top = ax.get_ylim()\n",
    "ax.set_ylim(bottom + 0.5, top - 0.5)"
   ]
  },
  {
   "cell_type": "markdown",
   "metadata": {},
   "source": [
    "Insight : It looks like views, likes, comment_count, ratings_disabled and positive_or_negative are all relativley correlated"
   ]
  },
  {
   "cell_type": "markdown",
   "metadata": {},
   "source": [
    "## Linear Regression"
   ]
  },
  {
   "cell_type": "markdown",
   "metadata": {},
   "source": [
    "Predicting amount of likes for a video"
   ]
  },
  {
   "cell_type": "code",
   "execution_count": 31,
   "metadata": {},
   "outputs": [],
   "source": [
    "df_KR = KR_video[['category_id','trending_date','trending_month','publish_time','publish_month','category_id','views','likes','dislikes',\n",
    "         'positive_or_negative','comment_count']]"
   ]
  },
  {
   "cell_type": "code",
   "execution_count": 32,
   "metadata": {},
   "outputs": [
    {
     "name": "stderr",
     "output_type": "stream",
     "text": [
      "<ipython-input-32-724381d49600>:1: SettingWithCopyWarning: \n",
      "A value is trying to be set on a copy of a slice from a DataFrame.\n",
      "Try using .loc[row_indexer,col_indexer] = value instead\n",
      "\n",
      "See the caveats in the documentation: https://pandas.pydata.org/pandas-docs/stable/user_guide/indexing.html#returning-a-view-versus-a-copy\n",
      "  df_KR['views_log'] = np.log(df_KR['views'])\n",
      "C:\\Users\\Windi aulia\\anaconda3\\envs\\hacktiv8-env\\lib\\site-packages\\pandas\\core\\series.py:726: RuntimeWarning: divide by zero encountered in log\n",
      "  result = getattr(ufunc, method)(*inputs, **kwargs)\n",
      "<ipython-input-32-724381d49600>:2: SettingWithCopyWarning: \n",
      "A value is trying to be set on a copy of a slice from a DataFrame.\n",
      "Try using .loc[row_indexer,col_indexer] = value instead\n",
      "\n",
      "See the caveats in the documentation: https://pandas.pydata.org/pandas-docs/stable/user_guide/indexing.html#returning-a-view-versus-a-copy\n",
      "  df_KR['likes_log'] = np.log(df_KR['likes'])\n",
      "<ipython-input-32-724381d49600>:3: SettingWithCopyWarning: \n",
      "A value is trying to be set on a copy of a slice from a DataFrame.\n",
      "Try using .loc[row_indexer,col_indexer] = value instead\n",
      "\n",
      "See the caveats in the documentation: https://pandas.pydata.org/pandas-docs/stable/user_guide/indexing.html#returning-a-view-versus-a-copy\n",
      "  df_KR['dislikes_log'] = np.log(df_KR['dislikes'])\n",
      "<ipython-input-32-724381d49600>:4: SettingWithCopyWarning: \n",
      "A value is trying to be set on a copy of a slice from a DataFrame.\n",
      "Try using .loc[row_indexer,col_indexer] = value instead\n",
      "\n",
      "See the caveats in the documentation: https://pandas.pydata.org/pandas-docs/stable/user_guide/indexing.html#returning-a-view-versus-a-copy\n",
      "  df_KR['comment_count_log'] = np.log(df_KR['comment_count'])\n"
     ]
    }
   ],
   "source": [
    "df_KR['views_log'] = np.log(df_KR['views'])\n",
    "df_KR['likes_log'] = np.log(df_KR['likes'])\n",
    "df_KR['dislikes_log'] = np.log(df_KR['dislikes'])\n",
    "df_KR['comment_count_log'] = np.log(df_KR['comment_count'])"
   ]
  },
  {
   "cell_type": "code",
   "execution_count": 33,
   "metadata": {},
   "outputs": [
    {
     "data": {
      "text/html": [
       "<div>\n",
       "<style scoped>\n",
       "    .dataframe tbody tr th:only-of-type {\n",
       "        vertical-align: middle;\n",
       "    }\n",
       "\n",
       "    .dataframe tbody tr th {\n",
       "        vertical-align: top;\n",
       "    }\n",
       "\n",
       "    .dataframe thead th {\n",
       "        text-align: right;\n",
       "    }\n",
       "</style>\n",
       "<table border=\"1\" class=\"dataframe\">\n",
       "  <thead>\n",
       "    <tr style=\"text-align: right;\">\n",
       "      <th></th>\n",
       "      <th>category_id</th>\n",
       "      <th>trending_date</th>\n",
       "      <th>trending_month</th>\n",
       "      <th>publish_time</th>\n",
       "      <th>publish_month</th>\n",
       "      <th>category_id</th>\n",
       "      <th>views</th>\n",
       "      <th>likes</th>\n",
       "      <th>dislikes</th>\n",
       "      <th>positive_or_negative</th>\n",
       "      <th>comment_count</th>\n",
       "      <th>views_log</th>\n",
       "      <th>likes_log</th>\n",
       "      <th>dislikes_log</th>\n",
       "      <th>comment_count_log</th>\n",
       "    </tr>\n",
       "  </thead>\n",
       "  <tbody>\n",
       "    <tr>\n",
       "      <th>0</th>\n",
       "      <td>22</td>\n",
       "      <td>2017-11-14</td>\n",
       "      <td>11</td>\n",
       "      <td>2017-11-13 07:07:36</td>\n",
       "      <td>11</td>\n",
       "      <td>22</td>\n",
       "      <td>156130</td>\n",
       "      <td>1422</td>\n",
       "      <td>40</td>\n",
       "      <td>1</td>\n",
       "      <td>272</td>\n",
       "      <td>11.958444</td>\n",
       "      <td>7.259820</td>\n",
       "      <td>3.688879</td>\n",
       "      <td>5.605802</td>\n",
       "    </tr>\n",
       "    <tr>\n",
       "      <th>1</th>\n",
       "      <td>25</td>\n",
       "      <td>2017-11-14</td>\n",
       "      <td>11</td>\n",
       "      <td>2017-11-13 10:59:16</td>\n",
       "      <td>11</td>\n",
       "      <td>25</td>\n",
       "      <td>76533</td>\n",
       "      <td>211</td>\n",
       "      <td>28</td>\n",
       "      <td>1</td>\n",
       "      <td>113</td>\n",
       "      <td>11.245477</td>\n",
       "      <td>5.351858</td>\n",
       "      <td>3.332205</td>\n",
       "      <td>4.727388</td>\n",
       "    </tr>\n",
       "    <tr>\n",
       "      <th>2</th>\n",
       "      <td>22</td>\n",
       "      <td>2017-11-14</td>\n",
       "      <td>11</td>\n",
       "      <td>2017-11-11 07:16:08</td>\n",
       "      <td>11</td>\n",
       "      <td>22</td>\n",
       "      <td>421409</td>\n",
       "      <td>5112</td>\n",
       "      <td>166</td>\n",
       "      <td>1</td>\n",
       "      <td>459</td>\n",
       "      <td>12.951359</td>\n",
       "      <td>8.539346</td>\n",
       "      <td>5.111988</td>\n",
       "      <td>6.129050</td>\n",
       "    </tr>\n",
       "    <tr>\n",
       "      <th>3</th>\n",
       "      <td>25</td>\n",
       "      <td>2017-11-14</td>\n",
       "      <td>11</td>\n",
       "      <td>2017-11-12 11:19:52</td>\n",
       "      <td>11</td>\n",
       "      <td>25</td>\n",
       "      <td>222850</td>\n",
       "      <td>2093</td>\n",
       "      <td>173</td>\n",
       "      <td>1</td>\n",
       "      <td>1219</td>\n",
       "      <td>12.314254</td>\n",
       "      <td>7.646354</td>\n",
       "      <td>5.153292</td>\n",
       "      <td>7.105786</td>\n",
       "    </tr>\n",
       "    <tr>\n",
       "      <th>4</th>\n",
       "      <td>25</td>\n",
       "      <td>2017-11-14</td>\n",
       "      <td>11</td>\n",
       "      <td>2017-11-13 11:08:59</td>\n",
       "      <td>11</td>\n",
       "      <td>25</td>\n",
       "      <td>84466</td>\n",
       "      <td>1094</td>\n",
       "      <td>109</td>\n",
       "      <td>1</td>\n",
       "      <td>450</td>\n",
       "      <td>11.344104</td>\n",
       "      <td>6.997596</td>\n",
       "      <td>4.691348</td>\n",
       "      <td>6.109248</td>\n",
       "    </tr>\n",
       "  </tbody>\n",
       "</table>\n",
       "</div>"
      ],
      "text/plain": [
       "   category_id trending_date  trending_month        publish_time  \\\n",
       "0           22    2017-11-14              11 2017-11-13 07:07:36   \n",
       "1           25    2017-11-14              11 2017-11-13 10:59:16   \n",
       "2           22    2017-11-14              11 2017-11-11 07:16:08   \n",
       "3           25    2017-11-14              11 2017-11-12 11:19:52   \n",
       "4           25    2017-11-14              11 2017-11-13 11:08:59   \n",
       "\n",
       "   publish_month  category_id   views  likes  dislikes  positive_or_negative  \\\n",
       "0             11           22  156130   1422        40                     1   \n",
       "1             11           25   76533    211        28                     1   \n",
       "2             11           22  421409   5112       166                     1   \n",
       "3             11           25  222850   2093       173                     1   \n",
       "4             11           25   84466   1094       109                     1   \n",
       "\n",
       "   comment_count  views_log  likes_log  dislikes_log  comment_count_log  \n",
       "0            272  11.958444   7.259820      3.688879           5.605802  \n",
       "1            113  11.245477   5.351858      3.332205           4.727388  \n",
       "2            459  12.951359   8.539346      5.111988           6.129050  \n",
       "3           1219  12.314254   7.646354      5.153292           7.105786  \n",
       "4            450  11.344104   6.997596      4.691348           6.109248  "
      ]
     },
     "execution_count": 33,
     "metadata": {},
     "output_type": "execute_result"
    }
   ],
   "source": [
    "df_KR.head()"
   ]
  },
  {
   "cell_type": "code",
   "execution_count": 34,
   "metadata": {},
   "outputs": [],
   "source": [
    "X = df_KR[['trending_month','publish_month','category_id','positive_or_negative',\n",
    "        'views','dislikes','comment_count']]\n",
    "y = df_KR['likes']"
   ]
  },
  {
   "cell_type": "code",
   "execution_count": 35,
   "metadata": {},
   "outputs": [],
   "source": [
    "X_train, X_test, y_train, y_test = train_test_split(X, y, test_size=0.3, random_state=0)"
   ]
  },
  {
   "cell_type": "code",
   "execution_count": 36,
   "metadata": {},
   "outputs": [],
   "source": [
    "model = LinearRegression()"
   ]
  },
  {
   "cell_type": "code",
   "execution_count": 37,
   "metadata": {},
   "outputs": [],
   "source": [
    "fit_model = model.fit(X_train,y_train)"
   ]
  },
  {
   "cell_type": "code",
   "execution_count": 38,
   "metadata": {},
   "outputs": [
    {
     "name": "stdout",
     "output_type": "stream",
     "text": [
      "2706.8665881370907\n"
     ]
    }
   ],
   "source": [
    "print(model.intercept_)"
   ]
  },
  {
   "cell_type": "code",
   "execution_count": 39,
   "metadata": {},
   "outputs": [
    {
     "data": {
      "text/plain": [
       "array([ 5.69541806e+01, -1.59112599e+01, -1.90448929e+02, -1.90448929e+02,\n",
       "        2.27274266e+03,  1.90990171e-02, -1.42319559e+00,  3.78317507e+00])"
      ]
     },
     "execution_count": 39,
     "metadata": {},
     "output_type": "execute_result"
    }
   ],
   "source": [
    "model.coef_"
   ]
  },
  {
   "cell_type": "code",
   "execution_count": 40,
   "metadata": {},
   "outputs": [
    {
     "data": {
      "text/plain": [
       "Index(['trending_month', 'publish_month', 'category_id', 'category_id',\n",
       "       'positive_or_negative', 'views', 'dislikes', 'comment_count'],\n",
       "      dtype='object')"
      ]
     },
     "execution_count": 40,
     "metadata": {},
     "output_type": "execute_result"
    }
   ],
   "source": [
    "X_train.columns"
   ]
  },
  {
   "cell_type": "code",
   "execution_count": 41,
   "metadata": {},
   "outputs": [],
   "source": [
    "cdf = pd.DataFrame(model.coef_,index = X_train.columns,columns=['Coefficients'])"
   ]
  },
  {
   "cell_type": "code",
   "execution_count": 42,
   "metadata": {},
   "outputs": [
    {
     "data": {
      "text/html": [
       "<div>\n",
       "<style scoped>\n",
       "    .dataframe tbody tr th:only-of-type {\n",
       "        vertical-align: middle;\n",
       "    }\n",
       "\n",
       "    .dataframe tbody tr th {\n",
       "        vertical-align: top;\n",
       "    }\n",
       "\n",
       "    .dataframe thead th {\n",
       "        text-align: right;\n",
       "    }\n",
       "</style>\n",
       "<table border=\"1\" class=\"dataframe\">\n",
       "  <thead>\n",
       "    <tr style=\"text-align: right;\">\n",
       "      <th></th>\n",
       "      <th>Coefficients</th>\n",
       "    </tr>\n",
       "  </thead>\n",
       "  <tbody>\n",
       "    <tr>\n",
       "      <th>trending_month</th>\n",
       "      <td>56.954181</td>\n",
       "    </tr>\n",
       "    <tr>\n",
       "      <th>publish_month</th>\n",
       "      <td>-15.911260</td>\n",
       "    </tr>\n",
       "    <tr>\n",
       "      <th>category_id</th>\n",
       "      <td>-190.448929</td>\n",
       "    </tr>\n",
       "    <tr>\n",
       "      <th>category_id</th>\n",
       "      <td>-190.448929</td>\n",
       "    </tr>\n",
       "    <tr>\n",
       "      <th>positive_or_negative</th>\n",
       "      <td>2272.742659</td>\n",
       "    </tr>\n",
       "    <tr>\n",
       "      <th>views</th>\n",
       "      <td>0.019099</td>\n",
       "    </tr>\n",
       "    <tr>\n",
       "      <th>dislikes</th>\n",
       "      <td>-1.423196</td>\n",
       "    </tr>\n",
       "    <tr>\n",
       "      <th>comment_count</th>\n",
       "      <td>3.783175</td>\n",
       "    </tr>\n",
       "  </tbody>\n",
       "</table>\n",
       "</div>"
      ],
      "text/plain": [
       "                      Coefficients\n",
       "trending_month           56.954181\n",
       "publish_month           -15.911260\n",
       "category_id            -190.448929\n",
       "category_id            -190.448929\n",
       "positive_or_negative   2272.742659\n",
       "views                     0.019099\n",
       "dislikes                 -1.423196\n",
       "comment_count             3.783175"
      ]
     },
     "execution_count": 42,
     "metadata": {},
     "output_type": "execute_result"
    }
   ],
   "source": [
    "cdf"
   ]
  },
  {
   "cell_type": "code",
   "execution_count": 43,
   "metadata": {},
   "outputs": [],
   "source": [
    "predictions = model.predict(X_test)"
   ]
  },
  {
   "cell_type": "code",
   "execution_count": 44,
   "metadata": {},
   "outputs": [
    {
     "data": {
      "text/plain": [
       "array([-2010.08527028, -4693.03323928,   255.84999719, ...,\n",
       "       -1741.55088926, -3661.23624069, -3221.28158097])"
      ]
     },
     "execution_count": 44,
     "metadata": {},
     "output_type": "execute_result"
    }
   ],
   "source": [
    "predictions"
   ]
  },
  {
   "cell_type": "code",
   "execution_count": 45,
   "metadata": {},
   "outputs": [
    {
     "name": "stderr",
     "output_type": "stream",
     "text": [
      "C:\\Users\\Windi aulia\\anaconda3\\envs\\hacktiv8-env\\lib\\site-packages\\seaborn\\_decorators.py:36: FutureWarning: Pass the following variables as keyword args: x, y. From version 0.12, the only valid positional argument will be `data`, and passing other arguments without an explicit keyword will result in an error or misinterpretation.\n",
      "  warnings.warn(\n"
     ]
    },
    {
     "data": {
      "image/png": "[encoded data removed]",
      "text/plain": [
       "<Figure size 1080x720 with 1 Axes>"
      ]
     },
     "metadata": {
      "needs_background": "light"
     },
     "output_type": "display_data"
    }
   ],
   "source": [
    "plt.figure(figsize=(15,10))\n",
    "g = sns.regplot(y_test,predictions,fit_reg=True)\n",
    "plt.xlabel('Y Test (Actual)')\n",
    "plt.ylabel('Predictions')\n",
    "g.set(xlim=(-100000,5000000),ylim=(-100000,5000000))\n",
    "plt.show(g)"
   ]
  },
  {
   "cell_type": "code",
   "execution_count": 46,
   "metadata": {},
   "outputs": [
    {
     "name": "stdout",
     "output_type": "stream",
     "text": [
      "18       2307.085270\n",
      "3147     4693.033239\n",
      "32141    2359.150003\n",
      "16306     219.020831\n",
      "27118   -4733.891203\n",
      "            ...     \n",
      "32793    4783.880054\n",
      "14149     564.996763\n",
      "14338    2883.550889\n",
      "27151    3690.236241\n",
      "2092     3738.281581\n",
      "Name: likes, Length: 10371, dtype: float64\n"
     ]
    }
   ],
   "source": [
    "residuals = (y_test - predictions)\n",
    "print(residuals)"
   ]
  },
  {
   "cell_type": "code",
   "execution_count": 47,
   "metadata": {},
   "outputs": [
    {
     "data": {
      "text/plain": [
       "524.5140032140774"
      ]
     },
     "execution_count": 47,
     "metadata": {},
     "output_type": "execute_result"
    }
   ],
   "source": [
    "residuals.mean()"
   ]
  },
  {
   "cell_type": "code",
   "execution_count": 48,
   "metadata": {},
   "outputs": [
    {
     "name": "stderr",
     "output_type": "stream",
     "text": [
      "C:\\Users\\Windi aulia\\anaconda3\\envs\\hacktiv8-env\\lib\\site-packages\\seaborn\\distributions.py:2551: FutureWarning: `distplot` is a deprecated function and will be removed in a future version. Please adapt your code to use either `displot` (a figure-level function with similar flexibility) or `histplot` (an axes-level function for histograms).\n",
      "  warnings.warn(msg, FutureWarning)\n"
     ]
    },
    {
     "data": {
      "text/plain": [
       "[(-500000.0, 500000.0)]"
      ]
     },
     "execution_count": 48,
     "metadata": {},
     "output_type": "execute_result"
    },
    {
     "data": {
      "image/png": "[encoded data removed]",
      "text/plain": [
       "<Figure size 432x288 with 1 Axes>"
      ]
     },
     "metadata": {
      "needs_background": "light"
     },
     "output_type": "display_data"
    }
   ],
   "source": [
    "g = sns.distplot(residuals,bins=30)\n",
    "g.set(xlim=(-500000,500000))"
   ]
  },
  {
   "cell_type": "markdown",
   "metadata": {},
   "source": [
    "The most useful way to plot residuals is predicted (x - axis) and residuals (y - axis) Positive values for the residual (on the y - axis) means that the predicition was too low, and the negative values mean that the prediction was too high"
   ]
  },
  {
   "cell_type": "code",
   "execution_count": 49,
   "metadata": {},
   "outputs": [
    {
     "data": {
      "text/plain": [
       "<AxesSubplot:ylabel='likes'>"
      ]
     },
     "execution_count": 49,
     "metadata": {},
     "output_type": "execute_result"
    },
    {
     "data": {
      "image/png": "[encoded data removed]",
      "text/plain": [
       "<Figure size 1080x720 with 1 Axes>"
      ]
     },
     "metadata": {
      "needs_background": "light"
     },
     "output_type": "display_data"
    }
   ],
   "source": [
    "plt.figure(figsize=(15,10))\n",
    "sns.regplot(x=predictions,y=residuals,fit_reg=True)"
   ]
  },
  {
   "cell_type": "code",
   "execution_count": 50,
   "metadata": {},
   "outputs": [
    {
     "data": {
      "text/plain": [
       "0.9291284319215565"
      ]
     },
     "execution_count": 50,
     "metadata": {},
     "output_type": "execute_result"
    }
   ],
   "source": [
    "model.score(X_test,y_test)"
   ]
  },
  {
   "cell_type": "code",
   "execution_count": 51,
   "metadata": {},
   "outputs": [
    {
     "name": "stdout",
     "output_type": "stream",
     "text": [
      "MAE : 8330.903522043669\n",
      "MSE : 1341475945.755799\n",
      "RMSE : 36626.16476995372\n"
     ]
    }
   ],
   "source": [
    "print('MAE :',metrics.mean_absolute_error(y_test,predictions))\n",
    "print('MSE :',metrics.mean_squared_error(y_test,predictions))\n",
    "print('RMSE :',np.sqrt(metrics.mean_squared_error(y_test,predictions)))"
   ]
  },
  {
   "cell_type": "markdown",
   "metadata": {},
   "source": [
    "This is our r-square this indicates the % of the variance in the dependent variable that the independent variables explain so in our case -> the % of 'views' that are dependent on the features 'X' (likes, views, comment count, etc) scale is 0-100% scale, we can also have a negative as well\n",
    "A higher r-square means that smaller differences between the observed data and the fitted values, however having a higher r-square does not always mean that the model is a good fit."
   ]
  }
 ],
 "metadata": {
  "kernelspec": {
   "display_name": "Python 3",
   "language": "python",
   "name": "python3"
  },
  "language_info": {
   "codemirror_mode": {
    "name": "ipython",
    "version": 3
   },
   "file_extension": ".py",
   "mimetype": "text/x-python",
   "name": "python",
   "nbconvert_exporter": "python",
   "pygments_lexer": "ipython3",
   "version": "3.8.5"
  }
 },
 "nbformat": 4,
 "nbformat_minor": 4
}
