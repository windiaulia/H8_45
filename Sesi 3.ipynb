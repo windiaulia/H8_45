{
 "cells": [
  {
   "cell_type": "markdown",
   "metadata": {},
   "source": [
    "# Modularity in Python\n",
    "\n",
    "* Function and/or methods\n",
    "* Modules\n",
    "* Packages"
   ]
  },
  {
   "cell_type": "code",
   "execution_count": 27,
   "metadata": {},
   "outputs": [],
   "source": [
    "def cylinder_volume (height, radius):\n",
    "    \"\"\"computes volume of cylinder\"\"\"\n",
    "    volume = 3.14 * radius**2 * height\n",
    "    return volume\n",
    "\n",
    "def show_cylinder_volume (height, radius):\n",
    "    \"\"\"show cylinder volume\"\"\"\n",
    "    volume = 3.14 * radius**2 * height\n",
    "    print(volume)"
   ]
  },
  {
   "cell_type": "code",
   "execution_count": 28,
   "metadata": {},
   "outputs": [
    {
     "name": "stdout",
     "output_type": "stream",
     "text": [
      "volume: 2198.0\n",
      "volume: 3140.0\n",
      "2198.0\n",
      "volume: None\n"
     ]
    }
   ],
   "source": [
    "vol_1 = cylinder_volume (7, 10)\n",
    "print(\"volume:\", vol_1)\n",
    "\n",
    "vol_2 = cylinder_volume (10, 10)\n",
    "print(\"volume:\", vol_2)\n",
    "\n",
    "vol_3 = show_cylinder_volume (7, 10)\n",
    "print(\"volume:\", vol_3)\n"
   ]
  },
  {
   "cell_type": "code",
   "execution_count": 9,
   "metadata": {},
   "outputs": [],
   "source": [
    "def filter_data (data, criteria):\n",
    "    filtered_data = {}\n",
    "    for item in data:\n",
    "        if criteria in item.lower():\n",
    "            filtered_data[data.index(item)] = item\n",
    "    return filtered_data"
   ]
  },
  {
   "cell_type": "code",
   "execution_count": 10,
   "metadata": {},
   "outputs": [
    {
     "data": {
      "text/plain": [
       "{1: 'idfi tAnIya', 6: 'idfiTaniya', 7: 'idfi taniyAkusuma'}"
      ]
     },
     "execution_count": 10,
     "metadata": {},
     "output_type": "execute_result"
    }
   ],
   "source": [
    "list_names = [\"eza\", \"idfi tAnIya\", \"yoanita\",\"septy\", \"tiurma\", \"windi\", \"idfiTaniya\", \"idfi taniyAkusuma\"]\n",
    "\n",
    "filter_data(data = list_names, criteria = \"taniya\")\n"
   ]
  },
  {
   "cell_type": "code",
   "execution_count": 26,
   "metadata": {},
   "outputs": [
    {
     "data": {
      "text/plain": [
       "{1: 'idfi tAnIya', 2: 'yoanita', 6: 'idfiTaniya', 7: 'idfi taniyAkusuma'}"
      ]
     },
     "execution_count": 26,
     "metadata": {},
     "output_type": "execute_result"
    }
   ],
   "source": [
    "filter_data(list_names, \"ani\")"
   ]
  },
  {
   "cell_type": "code",
   "execution_count": 30,
   "metadata": {},
   "outputs": [
    {
     "data": {
      "text/plain": [
       "{1: 'idfi tAnIya', 2: 'yoanita', 6: 'idfiTaniya', 7: 'idfi taniyAkusuma'}"
      ]
     },
     "execution_count": 30,
     "metadata": {},
     "output_type": "execute_result"
    }
   ],
   "source": [
    "filter_data(criteria = \"ani\", data=list_names)"
   ]
  },
  {
   "cell_type": "code",
   "execution_count": 38,
   "metadata": {},
   "outputs": [
    {
     "name": "stdout",
     "output_type": "stream",
     "text": [
      "1 2 3 4 5 6 7 8 9 10 11 12 13\n",
      "1 2 3 4 5 6 7 8 9 10\n",
      "\n",
      "1..2..3..4..5..6..7..8..9..10==1..2..3..4..5..6..7..8..9..10\n",
      "1//2//3//4//5//6//7//8//9//10\n"
     ]
    }
   ],
   "source": [
    "print(1, 2, 3, 4, 5, 6, 7, 8, 9, 10, 11, 12, 13)\n",
    "print(1, 2, 3, 4, 5, 6, 7, 8, 9, 10, end=\"\\n\\n\")\n",
    "print(1, 2, 3, 4, 5, 6, 7, 8, 9, 10, sep = \"..\", end=\"==\")\n",
    "print(1, 2, 3, 4, 5, 6, 7, 8, 9, 10, sep = \"..\")\n",
    "print(1, 2, 3, 4, 5, 6, 7, 8, 9, 10, sep = \"//\")"
   ]
  },
  {
   "cell_type": "code",
   "execution_count": 48,
   "metadata": {},
   "outputs": [],
   "source": [
    "def show_all(*names, sep=\" \"):\n",
    "    string = \"\"\n",
    "    for name in names:\n",
    "        string += name\n",
    "        string += sep\n",
    "    return string[:-1]\n",
    "\n",
    "def shows(sep,*names):\n",
    "    string = \"\"\n",
    "    for name in names:\n",
    "        string += name\n",
    "        string += sep\n",
    "    return string[:1]"
   ]
  },
  {
   "cell_type": "code",
   "execution_count": 49,
   "metadata": {},
   "outputs": [
    {
     "data": {
      "text/plain": [
       "'idfi taniya yoanita eza tiurma windi kusuma septy'"
      ]
     },
     "execution_count": 49,
     "metadata": {},
     "output_type": "execute_result"
    }
   ],
   "source": [
    "show_all(\"idfi\", \"taniya\", \"yoanita\", \"eza\", \"tiurma\", \"windi\", \"kusuma\", \"septy\")"
   ]
  },
  {
   "cell_type": "code",
   "execution_count": 50,
   "metadata": {},
   "outputs": [
    {
     "data": {
      "text/plain": [
       "'i'"
      ]
     },
     "execution_count": 50,
     "metadata": {},
     "output_type": "execute_result"
    }
   ],
   "source": [
    "shows(\" \", \"idfi\", \"taniya\", \"yoanita\", \"eza\", \"tiurma\", \"windi\", \"kusuma\", \"septy\")"
   ]
  },
  {
   "cell_type": "code",
   "execution_count": 52,
   "metadata": {},
   "outputs": [],
   "source": [
    "def jumlah(x, y):\n",
    "    return x + y\n",
    "\n",
    "jum = lambda arg1, arg2: arg1 + arg2"
   ]
  },
  {
   "cell_type": "code",
   "execution_count": 53,
   "metadata": {},
   "outputs": [
    {
     "name": "stdout",
     "output_type": "stream",
     "text": [
      "20\n",
      "20\n"
     ]
    }
   ],
   "source": [
    "jumlah_1 = jumlah(10, 10)\n",
    "print(jumlah_1)\n",
    "\n",
    "jumlah_2 = jum(10, 10)\n",
    "print(jumlah_2)"
   ]
  },
  {
   "cell_type": "markdown",
   "metadata": {},
   "source": [
    "# Modules"
   ]
  },
  {
   "cell_type": "code",
   "execution_count": 1,
   "metadata": {},
   "outputs": [],
   "source": [
    "import process as P\n",
    "from process import filter_data, name"
   ]
  },
  {
   "cell_type": "code",
   "execution_count": 2,
   "metadata": {},
   "outputs": [],
   "source": [
    "def process():\n",
    "    print(\"processing something...\")"
   ]
  },
  {
   "cell_type": "code",
   "execution_count": 3,
   "metadata": {},
   "outputs": [
    {
     "name": "stdout",
     "output_type": "stream",
     "text": [
      "processing something...\n"
     ]
    }
   ],
   "source": [
    "process()"
   ]
  },
  {
   "cell_type": "code",
   "execution_count": 4,
   "metadata": {},
   "outputs": [],
   "source": [
    "list_names = [\"eza\", \"idfi tAnIya\", \"yoanita\",\"septy\", \"tiurma\", \"windi\", \"idfiTaniya\", \"idfi taniyAkusuma\"]"
   ]
  },
  {
   "cell_type": "code",
   "execution_count": 5,
   "metadata": {},
   "outputs": [
    {
     "data": {
      "text/plain": [
       "{1: 'idfi tAnIya', 2: 'yoanita', 6: 'idfiTaniya', 7: 'idfi taniyAkusuma'}"
      ]
     },
     "execution_count": 5,
     "metadata": {},
     "output_type": "execute_result"
    }
   ],
   "source": [
    "P.filter_data(list_names, criteria=\"an\")"
   ]
  },
  {
   "cell_type": "code",
   "execution_count": 7,
   "metadata": {},
   "outputs": [
    {
     "data": {
      "text/plain": [
       "'intro to python batch 45'"
      ]
     },
     "execution_count": 7,
     "metadata": {},
     "output_type": "execute_result"
    }
   ],
   "source": [
    "P.name"
   ]
  },
  {
   "cell_type": "code",
   "execution_count": 29,
   "metadata": {},
   "outputs": [
    {
     "data": {
      "text/plain": [
       "' ezaidfi tAnIyayoanitaseptytiurmawindiidfiTaniyaidfi taniyAkusum'"
      ]
     },
     "execution_count": 29,
     "metadata": {},
     "output_type": "execute_result"
    }
   ],
   "source": [
    "P.show_all(\" \", \"eza\", \"idfi tAnIya\", \"yoanita\",\"septy\", \"tiurma\", \"windi\", \"idfiTaniya\", \"idfi taniyAkusuma\")"
   ]
  },
  {
   "cell_type": "markdown",
   "metadata": {},
   "source": [
    "# Packages"
   ]
  },
  {
   "cell_type": "code",
   "execution_count": 1,
   "metadata": {},
   "outputs": [],
   "source": [
    "#import hacktiv.model\n",
    "#import hacktiv.process\n",
    "\n",
    "from hacktiv.model import model\n",
    "from hacktiv.process import name, filter_data"
   ]
  },
  {
   "cell_type": "code",
   "execution_count": 11,
   "metadata": {},
   "outputs": [
    {
     "data": {
      "text/plain": [
       "['eza',\n",
       " 'idfi tAnIya',\n",
       " 'yoanita',\n",
       " 'septy',\n",
       " 'tiurma',\n",
       " 'windi',\n",
       " 'idfiTaniya',\n",
       " 'idfi taniyAkusuma']"
      ]
     },
     "execution_count": 11,
     "metadata": {},
     "output_type": "execute_result"
    }
   ],
   "source": [
    "list_names"
   ]
  },
  {
   "cell_type": "code",
   "execution_count": 12,
   "metadata": {},
   "outputs": [
    {
     "ename": "TypeError",
     "evalue": "filter_data() missing 1 required positional argument: 'criteria'",
     "output_type": "error",
     "traceback": [
      "\u001b[1;31m---------------------------------------------------------------------------\u001b[0m",
      "\u001b[1;31mTypeError\u001b[0m                                 Traceback (most recent call last)",
      "\u001b[1;32m<ipython-input-12-309e99f2812e>\u001b[0m in \u001b[0;36m<module>\u001b[1;34m\u001b[0m\n\u001b[1;32m----> 1\u001b[1;33m \u001b[0mfilter_data\u001b[0m\u001b[1;33m(\u001b[0m\u001b[0mlist_names\u001b[0m\u001b[1;33m)\u001b[0m\u001b[1;33m\u001b[0m\u001b[1;33m\u001b[0m\u001b[0m\n\u001b[0m",
      "\u001b[1;31mTypeError\u001b[0m: filter_data() missing 1 required positional argument: 'criteria'"
     ]
    }
   ],
   "source": [
    "filter_data(list_names)"
   ]
  },
  {
   "cell_type": "code",
   "execution_count": 4,
   "metadata": {},
   "outputs": [
    {
     "data": {
      "text/plain": [
       "'intro to python batch 45'"
      ]
     },
     "execution_count": 4,
     "metadata": {},
     "output_type": "execute_result"
    }
   ],
   "source": [
    "name"
   ]
  },
  {
   "cell_type": "code",
   "execution_count": 5,
   "metadata": {},
   "outputs": [
    {
     "data": {
      "text/plain": [
       "'this is a model'"
      ]
     },
     "execution_count": 5,
     "metadata": {},
     "output_type": "execute_result"
    }
   ],
   "source": [
    "model"
   ]
  },
  {
   "cell_type": "code",
   "execution_count": null,
   "metadata": {},
   "outputs": [],
   "source": []
  }
 ],
 "metadata": {
  "kernelspec": {
   "display_name": "Python 3",
   "language": "python",
   "name": "python3"
  },
  "language_info": {
   "codemirror_mode": {
    "name": "ipython",
    "version": 3
   },
   "file_extension": ".py",
   "mimetype": "text/x-python",
   "name": "python",
   "nbconvert_exporter": "python",
   "pygments_lexer": "ipython3",
   "version": "3.8.3"
  }
 },
 "nbformat": 4,
 "nbformat_minor": 4
}
