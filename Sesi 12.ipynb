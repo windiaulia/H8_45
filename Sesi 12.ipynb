{
 "cells": [
  {
   "cell_type": "code",
   "execution_count": 74,
   "metadata": {},
   "outputs": [],
   "source": [
    "import matplotlib.pyplot as plt\n",
    "import numpy as np\n",
    "\n",
    "from sklearn.datasets import load_digits, load_wine\n",
    "from sklearn.linear_model import LogisticRegression\n",
    "from sklearn.metrics import classification_report, confusion_matrix\n",
    "from sklearn.model_selection import train_test_split\n",
    "from sklearn.neighbors import KNeighborsClassifier\n",
    "from sklearn.preprocessing import StandardScaler"
   ]
  },
  {
   "cell_type": "code",
   "execution_count": 76,
   "metadata": {},
   "outputs": [
    {
     "name": "stdout",
     "output_type": "stream",
     "text": [
      "[[0]\n",
      " [1]\n",
      " [2]\n",
      " [3]\n",
      " [4]\n",
      " [5]\n",
      " [6]\n",
      " [7]\n",
      " [8]\n",
      " [9]] shape: (10, 1)\n",
      "[0 0 0 0 1 1 1 1 1 1] shape: (10,)\n"
     ]
    }
   ],
   "source": [
    "X = np.arange(10).reshape(-1,1)\n",
    "y = np.array([0, 0, 0, 0, 1, 1, 1, 1, 1, 1])\n",
    "\n",
    "print(X, \"shape:\", X.shape)\n",
    "print(y, \"shape:\", y.shape)"
   ]
  },
  {
   "cell_type": "code",
   "execution_count": 77,
   "metadata": {},
   "outputs": [],
   "source": [
    "model = LogisticRegression(solver=\"liblinear\", random_state=1)\n",
    "\n",
    "model.fit(X, y)\n",
    "\n",
    "prediction = model.predict(X)"
   ]
  },
  {
   "cell_type": "code",
   "execution_count": 6,
   "metadata": {},
   "outputs": [
    {
     "name": "stdout",
     "output_type": "stream",
     "text": [
      "List of classes: [0 1]\n"
     ]
    }
   ],
   "source": [
    "print(\"List of classes:\", model.classes_)"
   ]
  },
  {
   "cell_type": "code",
   "execution_count": 78,
   "metadata": {},
   "outputs": [
    {
     "name": "stdout",
     "output_type": "stream",
     "text": [
      "Intercept: [-1.04608067]\n",
      "Coefficients: [[0.51491375]]\n"
     ]
    }
   ],
   "source": [
    "print(\"Intercept:\", model.intercept_)\n",
    "print(\"Coefficients:\", model.coef_)"
   ]
  },
  {
   "cell_type": "code",
   "execution_count": 79,
   "metadata": {},
   "outputs": [
    {
     "name": "stdout",
     "output_type": "stream",
     "text": [
      "label:\n",
      "[0 0 0 0 1 1 1 1 1 1]\n",
      "prediction:\n",
      "[0 0 0 1 1 1 1 1 1 1]\n"
     ]
    }
   ],
   "source": [
    "print(\"label:\", y, sep=\"\\n\")\n",
    "print(\"prediction:\", prediction, sep=\"\\n\")"
   ]
  },
  {
   "cell_type": "code",
   "execution_count": 80,
   "metadata": {},
   "outputs": [
    {
     "data": {
      "text/plain": [
       "array([[74.00215698, 25.99784302],\n",
       "       [62.97552369, 37.02447631],\n",
       "       [50.40632049, 49.59367951],\n",
       "       [37.78554919, 62.21445081],\n",
       "       [26.62809349, 73.37190651],\n",
       "       [17.82150087, 82.17849913],\n",
       "       [11.47207921, 88.52792079],\n",
       "       [ 7.18698219, 92.81301781],\n",
       "       [ 4.42251267, 95.57748733],\n",
       "       [ 2.69056947, 97.30943053]])"
      ]
     },
     "execution_count": 80,
     "metadata": {},
     "output_type": "execute_result"
    }
   ],
   "source": [
    "model.predict_proba(X) * 100"
   ]
  },
  {
   "cell_type": "code",
   "execution_count": 81,
   "metadata": {},
   "outputs": [
    {
     "data": {
      "text/plain": [
       "array([[-0.53116692]])"
      ]
     },
     "execution_count": 81,
     "metadata": {},
     "output_type": "execute_result"
    }
   ],
   "source": [
    "(1*model.coef_ + model.intercept_)"
   ]
  },
  {
   "cell_type": "code",
   "execution_count": 82,
   "metadata": {},
   "outputs": [
    {
     "name": "stdout",
     "output_type": "stream",
     "text": [
      "accuracy score: 0.9\n"
     ]
    }
   ],
   "source": [
    "acc_score = model.score(X, y)\n",
    "print(\"accuracy score:\", acc_score)"
   ]
  },
  {
   "cell_type": "code",
   "execution_count": 83,
   "metadata": {},
   "outputs": [
    {
     "data": {
      "text/plain": [
       "array([[3, 1],\n",
       "       [0, 6]], dtype=int64)"
      ]
     },
     "execution_count": 83,
     "metadata": {},
     "output_type": "execute_result"
    }
   ],
   "source": [
    "confusion_matrix(y, prediction)"
   ]
  },
  {
   "cell_type": "code",
   "execution_count": 84,
   "metadata": {},
   "outputs": [
    {
     "data": {
      "image/png": "[encoded data removed]",
      "text/plain": [
       "<Figure size 576x576 with 1 Axes>"
      ]
     },
     "metadata": {
      "needs_background": "light"
     },
     "output_type": "display_data"
    }
   ],
   "source": [
    "confusion = confusion_matrix(y, prediction)\n",
    "fig, ax = plt.subplots(figsize=(8, 8))\n",
    "ax.imshow(confusion)\n",
    "ax.grid(False)\n",
    "ax.xaxis.set(ticks=(0, 1), ticklabels=(\"Predicted 0s\", \"Predicted 1s\"))\n",
    "ax.yaxis.set(ticks=(0, 1), ticklabels=(\"Actual 0s\", \"Actual 1s\"))\n",
    "ax.set_ylim(1.5, -.5)\n",
    "for i in range(2):\n",
    "    for j in range(2):\n",
    "        ax.text(j, i, confusion[i, j], ha=\"center\", va=\"center\", color=\"white\")\n",
    "plt.title(\"Confusion Matrix\")\n",
    "plt.show()"
   ]
  },
  {
   "cell_type": "code",
   "execution_count": 19,
   "metadata": {},
   "outputs": [
    {
     "name": "stdout",
     "output_type": "stream",
     "text": [
      "              precision    recall  f1-score   support\n",
      "\n",
      "           0       1.00      0.75      0.86         4\n",
      "           1       0.86      1.00      0.92         6\n",
      "\n",
      "    accuracy                           0.90        10\n",
      "   macro avg       0.93      0.88      0.89        10\n",
      "weighted avg       0.91      0.90      0.90        10\n",
      "\n"
     ]
    }
   ],
   "source": [
    "print(classification_report(y, prediction))"
   ]
  },
  {
   "cell_type": "markdown",
   "metadata": {},
   "source": [
    "Accuracy => (TP + TN) / (TP + TN + FN + FP)\n",
    "\n",
    "Precision => **dari yg diprediksi positif, berapa banyak yg sebenernya positif**.\n",
    "\n",
    "> precision = TP / (TP + FP)\n",
    "\n",
    "Recall => **dari yang sebenernya positif, berapa banyak yg berhasil model prediksi sbg positif**.\n",
    "\n",
    "> Recall = TP / (TP + FN)\n",
    "\n",
    "Ket : 0 = negatif\n",
    "      1 = positif\n",
    "      T = True\n",
    "      F = False\n",
    "      P = Positive\n",
    "      N = Negative"
   ]
  },
  {
   "cell_type": "code",
   "execution_count": 23,
   "metadata": {},
   "outputs": [
    {
     "name": "stdout",
     "output_type": "stream",
     "text": [
      "precision: 0.8571428571428571\n",
      "recall: 1.0\n"
     ]
    }
   ],
   "source": [
    "total_pred_pos = 7\n",
    "pred_actual_pos = 6\n",
    "precision = pred_actual_pos / total_pred_pos\n",
    "print(\"precision:\", precision)\n",
    "\n",
    "total_actual_pos = 6\n",
    "actual_pred_pos = 6\n",
    "recall = actual_pred_pos / total_actual_pos\n",
    "print(\"recall:\", recall)"
   ]
  },
  {
   "cell_type": "markdown",
   "metadata": {},
   "source": [
    "2 Case :\n",
    "1. Deteksi covid\n",
    "2. Deteksi spam"
   ]
  },
  {
   "cell_type": "markdown",
   "metadata": {},
   "source": [
    "### Handwriting Recognition"
   ]
  },
  {
   "cell_type": "code",
   "execution_count": 85,
   "metadata": {},
   "outputs": [],
   "source": [
    "X, y = load_digits(return_X_y = True)"
   ]
  },
  {
   "cell_type": "code",
   "execution_count": 86,
   "metadata": {},
   "outputs": [
    {
     "name": "stdout",
     "output_type": "stream",
     "text": [
      "Dataset shape: (1797, 64)\n",
      "Target shape: (1797,)\n"
     ]
    }
   ],
   "source": [
    "print(\"Dataset shape:\", X.shape)\n",
    "print(\"Target shape:\", y.shape)"
   ]
  },
  {
   "cell_type": "code",
   "execution_count": 87,
   "metadata": {},
   "outputs": [
    {
     "name": "stdout",
     "output_type": "stream",
     "text": [
      "Sample image:\n",
      "[ 0.  0.  5. 13.  9.  1.  0.  0.  0.  0. 13. 15. 10. 15.  5.  0.  0.  3.\n",
      " 15.  2.  0. 11.  8.  0.  0.  4. 12.  0.  0.  8.  8.  0.  0.  5.  8.  0.\n",
      "  0.  9.  8.  0.  0.  4. 11.  0.  1. 12.  7.  0.  0.  2. 14.  5. 10. 12.\n",
      "  0.  0.  0.  0.  6. 13. 10.  0.  0.  0.]\n"
     ]
    }
   ],
   "source": [
    "print(\"Sample image:\")\n",
    "print(X[0])"
   ]
  },
  {
   "cell_type": "code",
   "execution_count": 88,
   "metadata": {},
   "outputs": [
    {
     "data": {
      "text/plain": [
       "array([[ 0.,  0.,  5., 13.,  9.,  1.,  0.,  0.],\n",
       "       [ 0.,  0., 13., 15., 10., 15.,  5.,  0.],\n",
       "       [ 0.,  3., 15.,  2.,  0., 11.,  8.,  0.],\n",
       "       [ 0.,  4., 12.,  0.,  0.,  8.,  8.,  0.],\n",
       "       [ 0.,  5.,  8.,  0.,  0.,  9.,  8.,  0.],\n",
       "       [ 0.,  4., 11.,  0.,  1., 12.,  7.,  0.],\n",
       "       [ 0.,  2., 14.,  5., 10., 12.,  0.,  0.],\n",
       "       [ 0.,  0.,  6., 13., 10.,  0.,  0.,  0.]])"
      ]
     },
     "execution_count": 88,
     "metadata": {},
     "output_type": "execute_result"
    }
   ],
   "source": [
    "images = X.reshape(-1, 8, 8)\n",
    "images[0]"
   ]
  },
  {
   "cell_type": "code",
   "execution_count": 90,
   "metadata": {},
   "outputs": [
    {
     "data": {
      "image/png": "[encoded data removed]",
      "text/plain": [
       "<Figure size 432x288 with 1 Axes>"
      ]
     },
     "metadata": {
      "needs_background": "light"
     },
     "output_type": "display_data"
    }
   ],
   "source": [
    "sample = np.random.randint(len(images))\n",
    "plt.imshow(images[sample], cmap=plt.cm.gray_r)\n",
    "plt.title(f\"Label: {y[sample]}\")\n",
    "plt.show()"
   ]
  },
  {
   "cell_type": "code",
   "execution_count": 91,
   "metadata": {},
   "outputs": [
    {
     "name": "stdout",
     "output_type": "stream",
     "text": [
      "Training with: 1437.. Validating with: 360\n"
     ]
    }
   ],
   "source": [
    "X_train, X_valid, y_train, y_valid = train_test_split(X, y, test_size=.2, random_state=111)\n",
    "\n",
    "print(f\"Training with: {len(X_train)}.. Validating with: {len(X_valid)}\")"
   ]
  },
  {
   "cell_type": "code",
   "execution_count": 92,
   "metadata": {},
   "outputs": [],
   "source": [
    "scaler = StandardScaler()\n",
    "scaler.fit(X_train)\n",
    "scaled_X_train = scaler.transform(X_train)\n",
    "scaled_X_valid = scaler.transform(X_valid)"
   ]
  },
  {
   "cell_type": "code",
   "execution_count": 93,
   "metadata": {},
   "outputs": [
    {
     "data": {
      "text/plain": [
       "(array([ 0.,  0.,  3., 15., 16., 16., 12.,  0.,  0.,  0., 12., 12.,  7.,\n",
       "        16.,  6.,  0.,  0.,  4., 12.,  0.,  9., 13.,  0.,  0.,  0.,  0.,\n",
       "         1.,  1., 13.,  7.,  0.,  0.,  0.,  0.,  8., 13., 16., 16.,  6.,\n",
       "         0.,  0.,  0., 12., 15., 12.,  6.,  1.,  0.,  0.,  0.,  0., 15.,\n",
       "         5.,  0.,  0.,  0.,  0.,  0.,  3., 16.,  2.,  0.,  0.,  0.]),\n",
       " array([ 0.00000000e+00, -3.35150624e-01, -4.73128609e-01,  7.43064836e-01,\n",
       "         9.70988363e-01,  1.81050738e+00,  3.22283070e+00, -1.29737637e-01,\n",
       "        -5.01149787e-02, -6.34247931e-01,  2.72410162e-01,  3.47599586e-04,\n",
       "        -6.94511047e-01,  1.28981872e+00,  1.13866717e+00, -1.32944585e-01,\n",
       "        -2.63889907e-02,  3.92196637e-01,  3.44973933e-01, -1.20956234e+00,\n",
       "         3.04876340e-01,  8.34717807e-01, -5.46683761e-01, -1.13506694e-01,\n",
       "        -2.63889907e-02, -7.85595556e-01, -1.30870879e+00, -1.33156188e+00,\n",
       "         5.00996086e-01, -9.05352464e-02, -6.26915500e-01, -5.28331981e-02,\n",
       "         0.00000000e+00, -6.63580903e-01,  6.25443843e-02,  6.24184923e-01,\n",
       "         9.58805678e-01,  1.23024481e+00,  8.84774018e-01,  0.00000000e+00,\n",
       "        -5.18044323e-02, -5.24481863e-01,  7.94217140e-01,  1.21609910e+00,\n",
       "         6.90955808e-01, -3.93299947e-01, -5.74512958e-01, -8.71856088e-02,\n",
       "        -3.96300945e-02, -4.01377453e-01, -1.33698248e+00,  1.04098390e+00,\n",
       "        -8.49792425e-01, -1.45401261e+00, -7.64883609e-01, -2.10910431e-01,\n",
       "        -2.63889907e-02, -3.02408810e-01, -5.10857985e-01,  8.82811316e-01,\n",
       "        -2.02856547e+00, -1.14758563e+00, -4.99881876e-01, -2.03599687e-01]),\n",
       " array([ 0.,  0.,  4., 16., 16., 16., 12.,  0.,  0.,  0.,  4., 12., 11.,\n",
       "        14., 13.,  0.,  0.,  0.,  0.,  0.,  0., 15.,  9.,  0.,  0.,  0.,\n",
       "         2.,  8., 10., 16.,  9.,  0.,  0.,  0.,  7., 13., 16., 14.,  5.,\n",
       "         0.,  0.,  0.,  0.,  3., 16.,  5.,  0.,  0.,  0.,  0.,  0., 10.,\n",
       "        15.,  0.,  0.,  0.,  0.,  0.,  3., 16.,  9.,  0.,  0.,  0.]),\n",
       " array([ 0.00000000e+00, -3.35150624e-01, -2.61983947e-01,  9.80878682e-01,\n",
       "         9.70988363e-01,  1.81050738e+00,  3.22283070e+00, -1.29737637e-01,\n",
       "        -5.01149787e-02, -6.34247931e-01, -1.22026249e+00,  3.47599586e-04,\n",
       "         1.45213290e-01,  9.59696804e-01,  3.07442060e+00, -1.32944585e-01,\n",
       "        -2.63889907e-02, -7.34413192e-01, -1.78642359e+00, -1.20956234e+00,\n",
       "        -1.14794816e+00,  1.15707456e+00,  2.21621623e+00, -1.13506694e-01,\n",
       "        -2.63889907e-02, -7.85595556e-01, -1.14736575e+00, -1.39696695e-01,\n",
       "         9.35162282e-03,  1.44204635e+00,  1.83375162e+00, -5.28331981e-02,\n",
       "         0.00000000e+00, -6.63580903e-01, -9.37621900e-02,  6.24184923e-01,\n",
       "         9.58805678e-01,  8.91509074e-01,  5.99638278e-01,  0.00000000e+00,\n",
       "        -5.18044323e-02, -5.24481863e-01, -1.03795415e+00, -6.50924836e-01,\n",
       "         1.32702467e+00, -5.69146874e-01, -8.05507676e-01, -8.71856088e-02,\n",
       "        -3.96300945e-02, -4.01377453e-01, -1.33698248e+00,  8.06000634e-02,\n",
       "         1.03179727e+00, -1.45401261e+00, -7.64883609e-01, -2.10910431e-01,\n",
       "        -2.63889907e-02, -3.02408810e-01, -5.10857985e-01,  8.82811316e-01,\n",
       "        -5.91367268e-01, -1.14758563e+00, -4.99881876e-01, -2.03599687e-01]))"
      ]
     },
     "execution_count": 93,
     "metadata": {},
     "output_type": "execute_result"
    }
   ],
   "source": [
    "X_train[0], scaled_X_train[0], X_valid[0], scaled_X_valid[0]"
   ]
  },
  {
   "cell_type": "code",
   "execution_count": 94,
   "metadata": {},
   "outputs": [
    {
     "name": "stdout",
     "output_type": "stream",
     "text": [
      "Training report:\n",
      "              precision    recall  f1-score   support\n",
      "\n",
      "           0       0.99      1.00      0.99       142\n",
      "           1       0.93      0.97      0.95       143\n",
      "           2       0.97      1.00      0.99       145\n",
      "           3       0.99      0.97      0.98       148\n",
      "           4       1.00      0.98      0.99       143\n",
      "           5       0.97      0.98      0.97       147\n",
      "           6       0.99      0.99      0.99       143\n",
      "           7       0.97      0.99      0.98       141\n",
      "           8       0.95      0.89      0.92       138\n",
      "           9       0.93      0.93      0.93       147\n",
      "\n",
      "    accuracy                           0.97      1437\n",
      "   macro avg       0.97      0.97      0.97      1437\n",
      "weighted avg       0.97      0.97      0.97      1437\n",
      "\n",
      "Validation report:\n",
      "              precision    recall  f1-score   support\n",
      "\n",
      "           0       0.97      1.00      0.99        36\n",
      "           1       0.97      0.92      0.95        39\n",
      "           2       0.91      0.97      0.94        32\n",
      "           3       0.94      0.86      0.90        35\n",
      "           4       0.97      0.92      0.95        38\n",
      "           5       0.97      0.94      0.96        35\n",
      "           6       0.95      0.97      0.96        38\n",
      "           7       0.88      1.00      0.94        38\n",
      "           8       0.91      0.81      0.85        36\n",
      "           9       0.92      1.00      0.96        33\n",
      "\n",
      "    accuracy                           0.94       360\n",
      "   macro avg       0.94      0.94      0.94       360\n",
      "weighted avg       0.94      0.94      0.94       360\n",
      "\n"
     ]
    }
   ],
   "source": [
    "# define model\n",
    "model = LogisticRegression(solver=\"liblinear\", C=.05, multi_class=\"ovr\", random_state=1)\n",
    "\n",
    "# train model\n",
    "model.fit(scaled_X_train, y_train)\n",
    "\n",
    "# predict train and valid set\n",
    "train_pred = model.predict(scaled_X_train)\n",
    "valid_pred = model.predict(scaled_X_valid)\n",
    "\n",
    "# classification reports\n",
    "print(\"Training report:\", classification_report(y_train, train_pred), sep=\"\\n\")\n",
    "print(\"Validation report:\", classification_report(y_valid, valid_pred), sep=\"\\n\")"
   ]
  },
  {
   "cell_type": "code",
   "execution_count": 95,
   "metadata": {},
   "outputs": [
    {
     "data": {
      "image/png": "[encoded data removed]",
      "text/plain": [
       "<Figure size 576x576 with 1 Axes>"
      ]
     },
     "metadata": {
      "needs_background": "light"
     },
     "output_type": "display_data"
    }
   ],
   "source": [
    "confusion = confusion_matrix(y_valid, valid_pred)\n",
    "fig, ax = plt.subplots(figsize=(8, 8))\n",
    "ax.imshow(confusion)\n",
    "ax.grid(False)\n",
    "ax.xaxis.set(ticks=range(10))\n",
    "ax.yaxis.set(ticks=range(10))\n",
    "ax.set_xlabel(\"Predictions\")\n",
    "ax.set_ylabel(\"Actuals\")\n",
    "ax.set_ylim(9.5, -.5)\n",
    "for i in range(10):\n",
    "    for j in range(10):\n",
    "        ax.text(j, i, confusion[i, j], ha=\"center\", va=\"center\", color=\"white\")\n",
    "plt.title(\"Confusion Matrix\")\n",
    "plt.show()"
   ]
  },
  {
   "cell_type": "code",
   "execution_count": 96,
   "metadata": {},
   "outputs": [],
   "source": [
    "misclassified = np.where(y_valid != valid_pred)[0]"
   ]
  },
  {
   "cell_type": "code",
   "execution_count": 98,
   "metadata": {},
   "outputs": [
    {
     "data": {
      "image/png": "[encoded data removed]",
      "text/plain": [
       "<Figure size 432x288 with 1 Axes>"
      ]
     },
     "metadata": {
      "needs_background": "light"
     },
     "output_type": "display_data"
    }
   ],
   "source": [
    "sample = np.random.randint(len(misclassified))\n",
    "prediction = model.predict(scaler.transform(X_valid[misclassified[sample]].reshape(1, -1)))\n",
    "plt.imshow(images[sample], cmap=plt.cm.gray_r)\n",
    "plt.title(f\"Label: {y_valid[misclassified[sample]]}.. Prediction: {prediction[0]}\")\n",
    "plt.show()"
   ]
  },
  {
   "cell_type": "markdown",
   "metadata": {},
   "source": [
    "### K-Nearest Neighbors"
   ]
  },
  {
   "cell_type": "code",
   "execution_count": 105,
   "metadata": {},
   "outputs": [],
   "source": [
    "wine = load_wine()"
   ]
  },
  {
   "cell_type": "code",
   "execution_count": 106,
   "metadata": {},
   "outputs": [
    {
     "name": "stdout",
     "output_type": "stream",
     "text": [
      "Feature names: ['alcohol', 'malic_acid', 'ash', 'alcalinity_of_ash', 'magnesium', 'total_phenols', 'flavanoids', 'nonflavanoid_phenols', 'proanthocyanins', 'color_intensity', 'hue', 'od280/od315_of_diluted_wines', 'proline']\n",
      "Target names: ['class_0' 'class_1' 'class_2']\n"
     ]
    }
   ],
   "source": [
    "feature_names = wine.feature_names\n",
    "target_names = wine.target_names\n",
    "\n",
    "print(\"Feature names:\", feature_names)\n",
    "print(\"Target names:\", target_names)"
   ]
  },
  {
   "cell_type": "code",
   "execution_count": 107,
   "metadata": {},
   "outputs": [
    {
     "name": "stdout",
     "output_type": "stream",
     "text": [
      "Data shape: (178, 13)\n",
      "Target shape: (178,)\n"
     ]
    }
   ],
   "source": [
    "print(\"Data shape:\", wine.data.shape)\n",
    "print(\"Target shape:\", wine.target.shape)"
   ]
  },
  {
   "cell_type": "code",
   "execution_count": 108,
   "metadata": {},
   "outputs": [
    {
     "name": "stdout",
     "output_type": "stream",
     "text": [
      "Training with: 124.. Validating with: 54\n"
     ]
    }
   ],
   "source": [
    "X_train, X_valid, y_train, y_valid = train_test_split(wine.data, wine.target, test_size=.3, random_state=1)\n",
    "print(f\"Training with: {len(X_train)}.. Validating with: {len(X_valid)}\")"
   ]
  },
  {
   "cell_type": "code",
   "execution_count": 109,
   "metadata": {},
   "outputs": [
    {
     "data": {
      "text/plain": [
       "(array([ 12.08,   1.83,   2.32,  18.5 ,  81.  ,   1.6 ,   1.5 ,   0.52,\n",
       "          1.64,   2.4 ,   1.08,   2.27, 480.  ]),\n",
       " array([1.369e+01, 3.260e+00, 2.540e+00, 2.000e+01, 1.070e+02, 1.830e+00,\n",
       "        5.600e-01, 5.000e-01, 8.000e-01, 5.880e+00, 9.600e-01, 1.820e+00,\n",
       "        6.800e+02]))"
      ]
     },
     "execution_count": 109,
     "metadata": {},
     "output_type": "execute_result"
    }
   ],
   "source": [
    "X_train[0], X_valid[0]"
   ]
  },
  {
   "cell_type": "code",
   "execution_count": 110,
   "metadata": {},
   "outputs": [
    {
     "name": "stdout",
     "output_type": "stream",
     "text": [
      "Training performance:\n",
      "              precision    recall  f1-score   support\n",
      "\n",
      "     class_0       0.91      0.86      0.89        36\n",
      "     class_1       0.74      0.81      0.77        52\n",
      "     class_2       0.67      0.61      0.64        36\n",
      "\n",
      "    accuracy                           0.77       124\n",
      "   macro avg       0.77      0.76      0.76       124\n",
      "weighted avg       0.77      0.77      0.77       124\n",
      "\n",
      "Validation performance:\n",
      "              precision    recall  f1-score   support\n",
      "\n",
      "     class_0       0.95      0.78      0.86        23\n",
      "     class_1       0.61      0.58      0.59        19\n",
      "     class_2       0.35      0.50      0.41        12\n",
      "\n",
      "    accuracy                           0.65        54\n",
      "   macro avg       0.64      0.62      0.62        54\n",
      "weighted avg       0.70      0.65      0.67        54\n",
      "\n"
     ]
    }
   ],
   "source": [
    "# define KNN model\n",
    "model = KNeighborsClassifier(n_neighbors=7)\n",
    "\n",
    "# train kNN -> store data and label\n",
    "model.fit(X_train, y_train)\n",
    "\n",
    "# predict\n",
    "train_pred = model.predict(X_train)\n",
    "valid_pred = model.predict(X_valid)\n",
    "\n",
    "# classification report\n",
    "print(\"Training performance:\",\n",
    "      classification_report(y_train, train_pred, target_names=target_names),\n",
    "      sep=\"\\n\")\n",
    "print(\"Validation performance:\",\n",
    "      classification_report(y_valid, valid_pred, target_names=target_names),\n",
    "      sep=\"\\n\")"
   ]
  },
  {
   "cell_type": "code",
   "execution_count": 111,
   "metadata": {},
   "outputs": [
    {
     "name": "stdout",
     "output_type": "stream",
     "text": [
      "[0.25925925925925924, 0.3333333333333333, 0.25925925925925924, 0.3333333333333333, 0.2962962962962963, 0.4074074074074074, 0.35185185185185186, 0.3333333333333333, 0.3148148148148148, 0.3333333333333333, 0.2962962962962963, 0.3148148148148148, 0.2962962962962963, 0.2962962962962963, 0.2962962962962963, 0.2962962962962963, 0.25925925925925924, 0.2777777777777778, 0.2777777777777778, 0.25925925925925924, 0.3333333333333333, 0.2962962962962963, 0.3148148148148148, 0.2777777777777778, 0.2962962962962963, 0.2777777777777778, 0.2777777777777778, 0.2777777777777778, 0.25925925925925924, 0.2777777777777778, 0.3148148148148148, 0.3148148148148148, 0.3333333333333333, 0.2962962962962963, 0.2777777777777778, 0.2962962962962963, 0.2962962962962963, 0.2962962962962963, 0.2962962962962963]\n"
     ]
    }
   ],
   "source": [
    "error = []\n",
    "\n",
    "for k in range(1, 40):\n",
    "    knn = KNeighborsClassifier(n_neighbors=k)\n",
    "    knn.fit(X_train, y_train)\n",
    "    prediction = knn.predict(X_valid)\n",
    "    error.append(np.mean(prediction != y_valid))\n",
    "\n",
    "print(error)"
   ]
  },
  {
   "cell_type": "code",
   "execution_count": 112,
   "metadata": {},
   "outputs": [
    {
     "data": {
      "image/png": "[encoded data removed]",
      "text/plain": [
       "<Figure size 864x432 with 1 Axes>"
      ]
     },
     "metadata": {
      "needs_background": "light"
     },
     "output_type": "display_data"
    }
   ],
   "source": [
    "plt.figure(figsize=(12, 6))\n",
    "plt.plot(range(1, 40), error, color=\"r\", linestyle=\"dashed\", marker=\"o\", markersize=10)\n",
    "plt.title(\"Error Rate for each K\")\n",
    "plt.xlabel(\"K\")\n",
    "plt.xticks(range(1, 40))\n",
    "plt.ylabel(\"Mean of Error\")\n",
    "plt.show()"
   ]
  },
  {
   "cell_type": "code",
   "execution_count": 113,
   "metadata": {},
   "outputs": [
    {
     "name": "stdout",
     "output_type": "stream",
     "text": [
      "Training performance:\n",
      "              precision    recall  f1-score   support\n",
      "\n",
      "     class_0       1.00      1.00      1.00        36\n",
      "     class_1       1.00      1.00      1.00        52\n",
      "     class_2       1.00      1.00      1.00        36\n",
      "\n",
      "    accuracy                           1.00       124\n",
      "   macro avg       1.00      1.00      1.00       124\n",
      "weighted avg       1.00      1.00      1.00       124\n",
      "\n",
      "Validation performance:\n",
      "              precision    recall  f1-score   support\n",
      "\n",
      "     class_0       0.95      0.91      0.93        23\n",
      "     class_1       0.64      0.74      0.68        19\n",
      "     class_2       0.50      0.42      0.45        12\n",
      "\n",
      "    accuracy                           0.74        54\n",
      "   macro avg       0.70      0.69      0.69        54\n",
      "weighted avg       0.74      0.74      0.74        54\n",
      "\n"
     ]
    }
   ],
   "source": [
    "k = 1\n",
    "# define kNN model\n",
    "model = KNeighborsClassifier(n_neighbors=k)\n",
    "\n",
    "# train kNN -> store data and label\n",
    "model.fit(X_train, y_train)\n",
    "\n",
    "# predict\n",
    "train_pred = model.predict(X_train)\n",
    "valid_pred = model.predict(X_valid)\n",
    "\n",
    "# classification report\n",
    "print(\"Training performance:\",\n",
    "      classification_report(y_train, train_pred, target_names=target_names),\n",
    "      sep=\"\\n\")\n",
    "print(\"Validation performance:\",\n",
    "      classification_report(y_valid, valid_pred, target_names=target_names),\n",
    "      sep=\"\\n\")"
   ]
  },
  {
   "cell_type": "code",
   "execution_count": null,
   "metadata": {},
   "outputs": [],
   "source": []
  }
 ],
 "metadata": {
  "kernelspec": {
   "display_name": "Python 3",
   "language": "python",
   "name": "python3"
  },
  "language_info": {
   "codemirror_mode": {
    "name": "ipython",
    "version": 3
   },
   "file_extension": ".py",
   "mimetype": "text/x-python",
   "name": "python",
   "nbconvert_exporter": "python",
   "pygments_lexer": "ipython3",
   "version": "3.8.5"
  }
 },
 "nbformat": 4,
 "nbformat_minor": 4
}
