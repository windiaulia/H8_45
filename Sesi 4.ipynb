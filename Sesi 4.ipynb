{
 "cells": [
  {
   "cell_type": "markdown",
   "metadata": {},
   "source": [
    "### Introduction to Numpy"
   ]
  },
  {
   "cell_type": "code",
   "execution_count": 1,
   "metadata": {},
   "outputs": [],
   "source": [
    "import numpy as np"
   ]
  },
  {
   "cell_type": "code",
   "execution_count": 2,
   "metadata": {},
   "outputs": [
    {
     "name": "stdout",
     "output_type": "stream",
     "text": [
      "numpy version 1.19.2\n"
     ]
    }
   ],
   "source": [
    "print(\"numpy version\", np.__version__)"
   ]
  },
  {
   "cell_type": "code",
   "execution_count": 7,
   "metadata": {},
   "outputs": [
    {
     "name": "stdout",
     "output_type": "stream",
     "text": [
      "[[1 2 3]\n",
      " [4 5 6]]\n",
      "type: <class 'numpy.ndarray'> shape: (2, 3)\n",
      "axis 0: 2 axis 1: 3\n",
      "2\n"
     ]
    }
   ],
   "source": [
    "arr_int = np.array([[1,2,3],[4,5,6]])\n",
    "print(arr_int)\n",
    "print( \"type:\", type(arr_int), \"shape:\", arr_int.shape)\n",
    "print(\"axis 0:\", arr_int.shape[0], \"axis 1:\", arr_int.shape[1])\n",
    "print(len(arr_int))"
   ]
  },
  {
   "cell_type": "code",
   "execution_count": 38,
   "metadata": {},
   "outputs": [
    {
     "name": "stdout",
     "output_type": "stream",
     "text": [
      "[0.1 0.2 0.3 0.4]\n",
      "type: <class 'numpy.ndarray'> shape: (4,)\n",
      "axis 0: 4\n",
      "4\n",
      "[[[1.  2. ]\n",
      "  [3.  4. ]\n",
      "  [0.1 0.2]]\n",
      "\n",
      " [[5.  6. ]\n",
      "  [7.  8. ]\n",
      "  [0.3 0.4]]]\n",
      "type: <class 'numpy.ndarray'> shape: (2, 3, 2)\n",
      "axis 0: 2 axis 0: 3 axis 0: 2\n",
      "2\n"
     ]
    }
   ],
   "source": [
    "arr1d_float = np.array([.1, .2, .3, .4])\n",
    "print(arr1d_float)\n",
    "print( \"type:\", type(arr1d_float), \"shape:\", arr1d_float.shape)\n",
    "print(\"axis 0:\", arr1d_float.shape[0])\n",
    "print(len(arr1d_float))\n",
    "\n",
    "arr3d_int = np.array([[[1, 2], [3, 4], [.1, .2]], [[5, 6], [7, 8], [.3, .4]]])\n",
    "print(arr3d_int)\n",
    "print( \"type:\", type(arr3d_int), \"shape:\", arr3d_int.shape)\n",
    "print(\n",
    "    \"axis 0:\", arr3d_int.shape[0],\n",
    "    \"axis 0:\", arr3d_int.shape[1],\n",
    "    \"axis 0:\", arr3d_int.shape[2]\n",
    ")\n",
    "print(len(arr3d_int))"
   ]
  },
  {
   "cell_type": "code",
   "execution_count": 12,
   "metadata": {},
   "outputs": [
    {
     "name": "stdout",
     "output_type": "stream",
     "text": [
      "[[0 0 0]\n",
      " [0 0 0]] int32 <class 'numpy.ndarray'>\n"
     ]
    }
   ],
   "source": [
    "arr_zeros = np.zeros((2,3), dtype=\"int32\")\n",
    "print(arr_zeros, arr_zeros.dtype, type(arr_zeros))"
   ]
  },
  {
   "cell_type": "code",
   "execution_count": 13,
   "metadata": {},
   "outputs": [
    {
     "name": "stdout",
     "output_type": "stream",
     "text": [
      "[[0. 0. 0.]\n",
      " [0. 0. 0.]] float64 <class 'numpy.ndarray'>\n"
     ]
    }
   ],
   "source": [
    "arr_zeros = np.zeros((2,3))\n",
    "print(arr_zeros, arr_zeros.dtype, type(arr_zeros))"
   ]
  },
  {
   "cell_type": "code",
   "execution_count": 14,
   "metadata": {},
   "outputs": [
    {
     "name": "stdout",
     "output_type": "stream",
     "text": [
      "[[0. 0. 0.]\n",
      " [0. 0. 0.]] float64 <class 'numpy.ndarray'> (2, 3)\n"
     ]
    }
   ],
   "source": [
    "arr_zeros = np.zeros((2,3))\n",
    "print(arr_zeros, arr_zeros.dtype, type(arr_zeros), arr_zeros.shape)"
   ]
  },
  {
   "cell_type": "code",
   "execution_count": 15,
   "metadata": {},
   "outputs": [
    {
     "name": "stdout",
     "output_type": "stream",
     "text": [
      "[[1. 1. 1. 1.]\n",
      " [1. 1. 1. 1.]] float64 <class 'numpy.ndarray'> (2, 4)\n"
     ]
    }
   ],
   "source": [
    "arr_ones = np.ones((2,4))\n",
    "print(arr_ones, arr_ones.dtype, type(arr_ones), arr_ones.shape)"
   ]
  },
  {
   "cell_type": "code",
   "execution_count": 18,
   "metadata": {},
   "outputs": [
    {
     "name": "stdout",
     "output_type": "stream",
     "text": [
      "[1.  1.1 1.2 1.3 1.4 1.5 1.6 1.7 1.8 1.9] float64 <class 'numpy.ndarray'> (10,)\n"
     ]
    }
   ],
   "source": [
    "arr_arange = np.arange(1, 2, .1)\n",
    "print(arr_arange, arr_arange.dtype, type(arr_arange), arr_arange.shape)"
   ]
  },
  {
   "cell_type": "code",
   "execution_count": 26,
   "metadata": {},
   "outputs": [
    {
     "data": {
      "text/plain": [
       "array([[7.50846335e-312, 7.50878350e-312, 6.95187041e-310, ...,\n",
       "                    nan,             nan,             nan],\n",
       "       [            nan,             nan,             nan, ...,\n",
       "                    nan,             nan, 6.57017133e-299],\n",
       "       [            nan, 1.57488147e-301,             nan, ...,\n",
       "                    nan,             nan,             nan],\n",
       "       ...,\n",
       "       [0.00000000e+000, 0.00000000e+000, 0.00000000e+000, ...,\n",
       "        0.00000000e+000, 0.00000000e+000, 0.00000000e+000],\n",
       "       [0.00000000e+000, 0.00000000e+000, 0.00000000e+000, ...,\n",
       "        0.00000000e+000, 0.00000000e+000, 0.00000000e+000],\n",
       "       [0.00000000e+000, 0.00000000e+000, 0.00000000e+000, ...,\n",
       "        0.00000000e+000, 0.00000000e+000, 0.00000000e+000]])"
      ]
     },
     "execution_count": 26,
     "metadata": {},
     "output_type": "execute_result"
    }
   ],
   "source": [
    "np.empty((100, 100))"
   ]
  },
  {
   "cell_type": "code",
   "execution_count": 27,
   "metadata": {},
   "outputs": [
    {
     "name": "stdout",
     "output_type": "stream",
     "text": [
      "[[7.50846335e-312 7.50878350e-312 2.12199579e-314 ... 0.00000000e+000\n",
      "  0.00000000e+000 0.00000000e+000]\n",
      " [0.00000000e+000 0.00000000e+000 0.00000000e+000 ... 0.00000000e+000\n",
      "  0.00000000e+000 0.00000000e+000]\n",
      " [0.00000000e+000 0.00000000e+000 0.00000000e+000 ... 0.00000000e+000\n",
      "  0.00000000e+000 0.00000000e+000]\n",
      " ...\n",
      " [0.00000000e+000 0.00000000e+000 0.00000000e+000 ... 0.00000000e+000\n",
      "  0.00000000e+000 0.00000000e+000]\n",
      " [0.00000000e+000 0.00000000e+000 0.00000000e+000 ... 0.00000000e+000\n",
      "  0.00000000e+000 0.00000000e+000]\n",
      " [0.00000000e+000 0.00000000e+000 0.00000000e+000 ... 0.00000000e+000\n",
      "  0.00000000e+000 0.00000000e+000]] float64 <class 'numpy.ndarray'> (100, 100)\n"
     ]
    }
   ],
   "source": [
    "arr_empty = np.empty((100, 100))\n",
    "print(arr_empty, arr_empty.dtype, type(arr_empty), arr_empty.shape)"
   ]
  },
  {
   "cell_type": "code",
   "execution_count": 33,
   "metadata": {},
   "outputs": [
    {
     "name": "stdout",
     "output_type": "stream",
     "text": [
      "list: [[1, 2, 3], [4, 5, 6]]\n",
      "array: [[1 2 3]\n",
      " [4 5 6]]\n",
      "1 [1, 2]\n",
      "1 [1 2]\n",
      "[[4 5 6]\n",
      " [1 2 3]]\n",
      "[[6 5 4]\n",
      " [3 2 1]]\n"
     ]
    }
   ],
   "source": [
    "dummy_list = [[1,2,3],[4,5,6]]\n",
    "print(\"list:\", dummy_list)\n",
    "print(\"array:\", arr_int)\n",
    "\n",
    "# indexing\n",
    "print(dummy_list[0][0], dummy_list[0][:2])\n",
    "print(arr_int[0, 0], arr_int[0, :2])\n",
    "print(arr_int[::-1])\n",
    "print(arr_int[::-1, ::-1])"
   ]
  },
  {
   "cell_type": "code",
   "execution_count": 39,
   "metadata": {},
   "outputs": [
    {
     "name": "stdout",
     "output_type": "stream",
     "text": [
      "num of dimension: 2\n",
      "num of dimension: 3\n",
      "total items: 6\n",
      "total items: 12\n"
     ]
    }
   ],
   "source": [
    "# ndim and size of ndarray\n",
    "print(\"num of dimension:\", arr_int.ndim)\n",
    "print(\"num of dimension:\", arr3d_int.ndim)\n",
    "\n",
    "print(\"total items:\", arr_int.size)\n",
    "print(\"total items:\", arr3d_int.size)"
   ]
  },
  {
   "cell_type": "code",
   "execution_count": 44,
   "metadata": {},
   "outputs": [
    {
     "name": "stdout",
     "output_type": "stream",
     "text": [
      "before flatten: [[1 2 3]\n",
      " [4 5 6]]\n",
      "after flatten: [1 2 3 4 5 6]\n"
     ]
    }
   ],
   "source": [
    "# flatten\n",
    "print(\"before flatten:\", arr_int)\n",
    "print(\"after flatten:\", arr_int.flatten())"
   ]
  },
  {
   "cell_type": "code",
   "execution_count": 48,
   "metadata": {},
   "outputs": [
    {
     "data": {
      "text/plain": [
       "((3,), (1, 3))"
      ]
     },
     "execution_count": 48,
     "metadata": {},
     "output_type": "execute_result"
    }
   ],
   "source": [
    "np.array([10, 11, 12]).shape, np.array([[10, 11, 12]]).shape"
   ]
  },
  {
   "cell_type": "code",
   "execution_count": 60,
   "metadata": {},
   "outputs": [
    {
     "name": "stdout",
     "output_type": "stream",
     "text": [
      "[ 0.1  0.2  0.3  0.4 10.  11.  12. ]\n",
      "[[ 1  2  3]\n",
      " [ 4  5  6]\n",
      " [10 11 12]]\n",
      "[[ 1  2  3 10]\n",
      " [ 4  5  6 11]]\n",
      "[[1 2 3]\n",
      " [4 5 6]\n",
      " [1 2 3]\n",
      " [4 5 6]]\n",
      "[[1 2 3 1 2 3]\n",
      " [4 5 6 4 5 6]]\n",
      "[[1 2 3 1 2 3 1 2 3]\n",
      " [4 5 6 4 5 6 4 5 6]]\n",
      "[[1 2 3]\n",
      " [4 5 6]\n",
      " [1 2 3]\n",
      " [4 5 6]\n",
      " [1 2 3]\n",
      " [4 5 6]]\n",
      "[[1. 2. 3. 1. 1. 1. 1.]\n",
      " [4. 5. 6. 1. 1. 1. 1.]]\n"
     ]
    }
   ],
   "source": [
    "# append, concatenate and delete\n",
    "print(np.append(arr1d_float, [10, 11, 12]))\n",
    "print(np.append(arr_int, [[10, 11, 12]], axis=0))\n",
    "print(np.append(arr_int, [[10], [11]], axis=1))\n",
    "print(np.append(arr_int, arr_int, axis=0))\n",
    "print(np.append(arr_int, arr_int, axis=1))\n",
    "\n",
    "print(np.concatenate([arr_int, arr_int, arr_int], axis=1))\n",
    "print(np.concatenate([arr_int, arr_int, arr_int], axis=0))\n",
    "print(np.concatenate([arr_int, arr_ones], axis=1))\n",
    "#kalo print(np.concatenate([arr_int, arr_ones], axis=0)) tidak bisa, karena beda beda jumlah kolom"
   ]
  },
  {
   "cell_type": "code",
   "execution_count": 63,
   "metadata": {},
   "outputs": [
    {
     "name": "stdout",
     "output_type": "stream",
     "text": [
      "[[[1.  2. ]\n",
      "  [3.  4. ]\n",
      "  [0.1 0.2]]\n",
      "\n",
      " [[5.  6. ]\n",
      "  [7.  8. ]\n",
      "  [0.3 0.4]]]\n",
      "[[[1.  2. ]\n",
      "  [3.  4. ]\n",
      "  [0.1 0.2]]]\n",
      "[[[1. 2.]\n",
      "  [3. 4.]]\n",
      "\n",
      " [[5. 6.]\n",
      "  [7. 8.]]]\n"
     ]
    }
   ],
   "source": [
    "print(arr3d_int)\n",
    "print(np.delete(arr3d_int, 1, axis=0))\n",
    "print(np.delete(arr3d_int, -1, axis=1))"
   ]
  },
  {
   "cell_type": "code",
   "execution_count": 76,
   "metadata": {},
   "outputs": [
    {
     "name": "stdout",
     "output_type": "stream",
     "text": [
      "[[[1.  2. ]\n",
      "  [3.  4. ]\n",
      "  [0.1 0.2]]\n",
      "\n",
      " [[5.  6. ]\n",
      "  [7.  8. ]\n",
      "  [0.3 0.4]]]\n",
      "[[[1.  2. ]\n",
      "  [3.  4. ]\n",
      "  [0.1 0.2]]\n",
      "\n",
      " [[5.  6. ]\n",
      "  [7.  8. ]\n",
      "  [0.3 0.4]]] (2, 3, 2)\n",
      "[1.  2.  3.  4.  0.1 0.2 5.  6.  7.  8.  0.3 0.4]\n",
      "[[1.  2.  3.  4. ]\n",
      " [0.1 0.2 5.  6. ]\n",
      " [7.  8.  0.3 0.4]]\n",
      "[[1.  2. ]\n",
      " [3.  4. ]\n",
      " [0.1 0.2]\n",
      " [5.  6. ]\n",
      " [7.  8. ]\n",
      " [0.3 0.4]] 2\n",
      "[[[1.  2. ]]\n",
      "\n",
      " [[3.  4. ]]\n",
      "\n",
      " [[0.1 0.2]]\n",
      "\n",
      " [[5.  6. ]]\n",
      "\n",
      " [[7.  8. ]]\n",
      "\n",
      " [[0.3 0.4]]] 3\n",
      "[[[1.  2. ]\n",
      "  [3.  4. ]\n",
      "  [0.1 0.2]\n",
      "  [5.  6. ]\n",
      "  [7.  8. ]\n",
      "  [0.3 0.4]]] 3\n",
      "[[1.  2. ]\n",
      " [3.  4. ]\n",
      " [0.1 0.2]\n",
      " [5.  6. ]\n",
      " [7.  8. ]]\n"
     ]
    }
   ],
   "source": [
    "# reshape\n",
    "print(arr3d_int)\n",
    "print(arr3d_int, arr3d_int.shape)\n",
    "print(arr3d_int.flatten())\n",
    "print(np.reshape(arr3d_int, (3, 4)))\n",
    "print(np.reshape(arr3d_int, (6, 2)), np.reshape(arr3d_int, (6, 2)).ndim)\n",
    "print(np.reshape(arr3d_int, (6, 1, 2)), np.reshape(arr3d_int, (6, 1, 2)).ndim)\n",
    "print(np.reshape(arr3d_int, (1, 6, 2)), np.reshape(arr3d_int, (1, 6, 2)).ndim)\n",
    "\n",
    "print(np.resize(arr3d_int, (5, 2)))\n",
    "# print(arr3d_int.resize((3, 5)))"
   ]
  },
  {
   "cell_type": "code",
   "execution_count": 82,
   "metadata": {},
   "outputs": [
    {
     "data": {
      "text/plain": [
       "array([0.1, 0.2, 0.3, 0.4])"
      ]
     },
     "execution_count": 82,
     "metadata": {},
     "output_type": "execute_result"
    }
   ],
   "source": [
    "arr1d_float"
   ]
  },
  {
   "cell_type": "code",
   "execution_count": 94,
   "metadata": {},
   "outputs": [
    {
     "name": "stdout",
     "output_type": "stream",
     "text": [
      "(4,)\n",
      "[[0.1]\n",
      " [0.2]\n",
      " [0.3]\n",
      " [0.4]] (4, 1)\n",
      "[[0.1 0.2 0.3 0.4]]\n",
      "(2, 3, 2, 1)\n",
      "(2, 3, 2, 1)\n",
      "(2, 3, 2, 1)\n",
      "(2, 1, 3, 2)\n"
     ]
    }
   ],
   "source": [
    "print(arr1d_float.shape)\n",
    "\n",
    "arr2d_float = arr1d_float[:, np.newaxis]\n",
    "print(arr2d_float, arr2d_float.shape)\n",
    "print(arr1d_float[None])\n",
    "\n",
    "print(arr3d_int[:, :, :, np.newaxis].shape)\n",
    "print(arr3d_int[..., np.newaxis].shape)\n",
    "print(arr3d_int[:,..., np.newaxis].shape)\n",
    "print(arr3d_int[:, np.newaxis, ...].shape)"
   ]
  },
  {
   "cell_type": "code",
   "execution_count": 91,
   "metadata": {},
   "outputs": [
    {
     "data": {
      "text/plain": [
       "Ellipsis"
      ]
     },
     "execution_count": 91,
     "metadata": {},
     "output_type": "execute_result"
    }
   ],
   "source": [
    "..."
   ]
  },
  {
   "cell_type": "code",
   "execution_count": 99,
   "metadata": {},
   "outputs": [
    {
     "name": "stdout",
     "output_type": "stream",
     "text": [
      "[[1 2 3]\n",
      " [4 5 6]]\n",
      "[[1 4]\n",
      " [2 5]\n",
      " [3 6]]\n",
      "[[1 4]\n",
      " [2 5]\n",
      " [3 6]]\n",
      "[[1 4]\n",
      " [2 5]\n",
      " [3 6]]\n",
      "[[1 2]\n",
      " [3 4]\n",
      " [5 6]]\n"
     ]
    }
   ],
   "source": [
    "# transpose \n",
    "print(arr_int)\n",
    "print(arr_int.T)\n",
    "print(np.transpose(arr_int))\n",
    "print(np.transpose(arr_int))\n",
    "print(arr_int.reshape(arr_int.shape[1], arr_int.shape[0]))"
   ]
  },
  {
   "cell_type": "code",
   "execution_count": 114,
   "metadata": {},
   "outputs": [
    {
     "name": "stdout",
     "output_type": "stream",
     "text": [
      "[[1, 2, 3], [4, 5, 6]]\n",
      "[[1 2 3]\n",
      " [4 5 6]]\n",
      "[0.1 0.2 0.3 0.4]\n",
      "[[1, 2, 3], [4, 5, 6], [1, 2, 3], [4, 5, 6]]\n",
      "[[ 2  4  6]\n",
      " [ 8 10 12]]\n",
      "[[10 20 30]\n",
      " [40 50 60]]\n",
      "[[[10. 20.]\n",
      "  [30. 40.]\n",
      "  [ 1.  2.]]\n",
      "\n",
      " [[50. 60.]\n",
      "  [70. 80.]\n",
      "  [ 3.  4.]]]\n",
      "[0.01 0.04 0.09 0.16]\n",
      "[[ 1  4  9]\n",
      " [16 25 36]]\n",
      "[[1. 1. 1.]\n",
      " [1. 1. 1.]]\n",
      "[[0.1 0.2 0.3]\n",
      " [0.4 0.5 0.6]]\n"
     ]
    }
   ],
   "source": [
    "# mathematics operation\n",
    "print(dummy_list)\n",
    "print(arr_int)\n",
    "print(arr1d_float)\n",
    "\n",
    "print(dummy_list + dummy_list)\n",
    "print(arr_int + arr_int)\n",
    "print(arr_int * 10)\n",
    "print(arr3d_int * 10)\n",
    "print(arr1d_float * arr1d_float)\n",
    "print(arr_int * arr_int)\n",
    "print(arr_int / arr_int)\n",
    "print(arr_int / 10)"
   ]
  },
  {
   "cell_type": "code",
   "execution_count": 117,
   "metadata": {},
   "outputs": [
    {
     "name": "stdout",
     "output_type": "stream",
     "text": [
      "[[1 2 3]\n",
      " [4 5 6]]\n",
      "[ 6 15]\n",
      "[[5 7 9]]\n",
      "[[21]]\n"
     ]
    }
   ],
   "source": [
    "print(arr_int)\n",
    "print(arr_int.sum(axis=1))\n",
    "print(arr_int.sum(axis=0, keepdims=True))\n",
    "print(arr_int.sum(keepdims=True))"
   ]
  },
  {
   "cell_type": "code",
   "execution_count": 120,
   "metadata": {},
   "outputs": [
    {
     "name": "stdout",
     "output_type": "stream",
     "text": [
      "[0.1 0.2 0.3 0.4] [0.1 0.2 0.3 0.4]\n",
      "0.3\n",
      "[[[10. 20.]\n",
      "  [30. 40.]\n",
      "  [ 1.  2.]]\n",
      "\n",
      " [[50. 60.]\n",
      "  [70. 80.]\n",
      "  [ 3.  4.]]]\n",
      "[[1 2 3]\n",
      " [4 5 6]]\n",
      "[[14 32]\n",
      " [32 77]]\n"
     ]
    }
   ],
   "source": [
    "print(arr1d_float, arr1d_float)\n",
    "print(np.dot(arr1d_float, arr1d_float))\n",
    "print(np.dot(arr3d_int, 10))\n",
    "\n",
    "print(arr_int)\n",
    "print(np.dot(arr_int, arr_int.T))"
   ]
  },
  {
   "cell_type": "code",
   "execution_count": 125,
   "metadata": {},
   "outputs": [
    {
     "name": "stdout",
     "output_type": "stream",
     "text": [
      "[[1 2 3]\n",
      " [4 5 6]]\n",
      "[[1 4]\n",
      " [2 5]\n",
      " [3 6]]\n",
      "[[17 22 27]\n",
      " [22 29 36]\n",
      " [27 36 45]]\n",
      "[[14 32]\n",
      " [32 77]]\n"
     ]
    }
   ],
   "source": [
    "print(arr_int)\n",
    "print(arr_int.T)\n",
    "print(np.matmul(arr_int.T, arr_int))\n",
    "print(np.matmul(arr_int, arr_int.T))"
   ]
  },
  {
   "cell_type": "code",
   "execution_count": 124,
   "metadata": {},
   "outputs": [
    {
     "name": "stdout",
     "output_type": "stream",
     "text": [
      "[[1 4]\n",
      " [2 5]\n",
      " [3 6]]\n"
     ]
    }
   ],
   "source": [
    "print(np.einsum(\"ij->ji\", arr_int))"
   ]
  },
  {
   "cell_type": "code",
   "execution_count": 135,
   "metadata": {},
   "outputs": [
    {
     "name": "stdout",
     "output_type": "stream",
     "text": [
      "[[4 9 6]\n",
      " [4 5 6]]\n",
      "10.0\n",
      "[[-1.33704173  0.28957055 -0.27572099 -1.0844576   2.19401887  0.52902068\n",
      "  -0.61703492  0.54370684  0.95779514  1.19176672]\n",
      " [ 1.29174399  0.59531725  0.07063033  0.88610811 -0.08369162  0.12315071\n",
      "   1.25275474 -0.74540144 -0.15444366 -0.04376346]\n",
      " [-0.08769213 -0.27071054  0.82078216 -2.1963146  -0.79907193 -0.23527889\n",
      "  -1.23496562 -0.39457077  0.854457   -1.32843405]\n",
      " [ 0.68067913 -0.49410095  0.01431493 -0.89005776 -0.3267363  -0.02445294\n",
      "  -0.35008755 -0.16472043  0.9840316   0.74483504]\n",
      " [ 0.84502981 -0.56562812 -1.43139136 -0.06885101  0.37315108 -1.08928361\n",
      "   1.93145965 -0.53213245  1.00267083  1.34309089]\n",
      " [-0.24863036  0.12584108 -1.33717594 -1.10926345  2.01412415 -0.64566977\n",
      "   0.77878836  0.03951558  1.43582731  0.1213632 ]\n",
      " [-0.1431113   2.06179579  0.3348868   0.74605759 -0.00873031  0.44596839\n",
      "  -0.93059165 -0.10804046 -0.1204848  -0.45677366]\n",
      " [ 0.64591643  0.94497857  0.70968992 -0.54252942 -0.84399246  0.73393198\n",
      "  -0.46264193  1.10767428 -0.91982837 -0.27067299]\n",
      " [-1.24653297 -0.03092034 -1.64036631  0.61942555 -0.27105728 -1.6942958\n",
      "  -0.74937519  0.17594904 -0.93690992 -0.34992928]\n",
      " [-0.0512952   0.02053136  0.43590108 -1.01761296 -0.59891421 -0.3790316\n",
      "  -0.08335175  0.68038329  2.34594687  0.21622736]]\n",
      "10.788403541722097\n",
      "None\n"
     ]
    }
   ],
   "source": [
    "# bilangan random\n",
    "print(np.random.randint(10, size = (2, 3)))\n",
    "print(np.random.uniform(10, 10))\n",
    "print(np.random.randn(10, 10))\n",
    "print(np.random.normal(1., 10, size=()))\n",
    "\n",
    "print(np.random.seed(10))"
   ]
  },
  {
   "cell_type": "code",
   "execution_count": 136,
   "metadata": {},
   "outputs": [
    {
     "name": "stdout",
     "output_type": "stream",
     "text": [
      "None\n"
     ]
    }
   ],
   "source": [
    "print(np.random.seed(10))"
   ]
  },
  {
   "cell_type": "code",
   "execution_count": null,
   "metadata": {},
   "outputs": [],
   "source": []
  }
 ],
 "metadata": {
  "kernelspec": {
   "display_name": "Python 3",
   "language": "python",
   "name": "python3"
  },
  "language_info": {
   "codemirror_mode": {
    "name": "ipython",
    "version": 3
   },
   "file_extension": ".py",
   "mimetype": "text/x-python",
   "name": "python",
   "nbconvert_exporter": "python",
   "pygments_lexer": "ipython3",
   "version": "3.8.5"
  }
 },
 "nbformat": 4,
 "nbformat_minor": 4
}
