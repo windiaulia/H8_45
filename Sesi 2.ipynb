{
 "cells": [
  {
   "cell_type": "markdown",
   "metadata": {},
   "source": [
    "### Control Flow"
   ]
  },
  {
   "cell_type": "code",
   "execution_count": 1,
   "metadata": {},
   "outputs": [
    {
     "name": "stdout",
     "output_type": "stream",
     "text": [
      "buy a magazine!\n"
     ]
    }
   ],
   "source": [
    "book_price = 500000\n",
    "magazine_price = 10000\n",
    "money = 20000\n",
    "\n",
    "if money > book_price:\n",
    "    print(\"buy a book!\")\n",
    "elif money > magazine_price:\n",
    "    print(\"buy a magazine!\")\n",
    "else:\n",
    "    print (\"Gather some money first!\")"
   ]
  },
  {
   "cell_type": "code",
   "execution_count": 2,
   "metadata": {},
   "outputs": [
    {
     "name": "stdout",
     "output_type": "stream",
     "text": [
      "buy a magazine!\n"
     ]
    }
   ],
   "source": [
    "book_price = 500000\n",
    "magazine_price = 10000\n",
    "money = 20000\n",
    "\n",
    "is_buy_book = money > book_price\n",
    "is_buy_magazine = money > magazine_price\n",
    "\n",
    "if is_buy_book:\n",
    "    print(\"buy a book!\")\n",
    "elif is_buy_magazine:\n",
    "    print(\"buy a magazine!\")\n",
    "else:\n",
    "    print (\"Gather some money first!\")"
   ]
  },
  {
   "cell_type": "code",
   "execution_count": 4,
   "metadata": {},
   "outputs": [
    {
     "name": "stdout",
     "output_type": "stream",
     "text": [
      "do something!\n"
     ]
    }
   ],
   "source": [
    "is_raining = False\n",
    "\n",
    "if is_raining:\n",
    "    print(\"stay at home\")\n",
    "else:\n",
    "    print(\"do something!\")"
   ]
  },
  {
   "cell_type": "code",
   "execution_count": 6,
   "metadata": {},
   "outputs": [
    {
     "name": "stdout",
     "output_type": "stream",
     "text": [
      "do something\n",
      "student is not valid! who are you?\n"
     ]
    }
   ],
   "source": [
    "what_to_do = \"stay at home\" if is_raining else \"do something\"\n",
    "print(what_to_do)\n",
    "\n",
    "list_names = [\"eza\", \"idfi\", \"yoanita\", \"septy\", \"tiurma\", \"windi\"]\n",
    "student = \"josh\"\n",
    "if student in list_names:\n",
    "    print (\"student is valid!\")\n",
    "else:\n",
    "    print (\"student is not valid! who are you?\")"
   ]
  },
  {
   "cell_type": "markdown",
   "metadata": {},
   "source": [
    "### While Loop"
   ]
  },
  {
   "cell_type": "code",
   "execution_count": 11,
   "metadata": {},
   "outputs": [
    {
     "name": "stdout",
     "output_type": "stream",
     "text": [
      "0 eza\n",
      "1 idfi\n",
      "2 yoanita\n",
      "3 septy\n",
      "4 tiurma\n",
      "5 windi\n"
     ]
    }
   ],
   "source": [
    "idx = 0\n",
    "while idx < len(list_names):\n",
    "    print(idx, list_names[idx])\n",
    "    idx += 1"
   ]
  },
  {
   "cell_type": "code",
   "execution_count": 16,
   "metadata": {},
   "outputs": [
    {
     "name": "stdout",
     "output_type": "stream",
     "text": [
      "processing: eza\n",
      "taniya in student: []\n",
      "processing: idfi\n",
      "taniya in student: []\n",
      "processing: yoanita\n",
      "taniya in student: []\n",
      "processing: septy\n",
      "taniya in student: []\n",
      "processing: tiurma\n",
      "taniya in student: []\n",
      "processing: windi\n",
      "taniya in student: []\n",
      "processing: idfi taniya\n",
      "taniya in student: ['idfi taniya']\n"
     ]
    }
   ],
   "source": [
    "list_names = [\"eza\", \"idfi\", \"yoanita\", \"septy\", \"tiurma\", \"windi\",\n",
    "              \"idfi taniya\"]\n",
    "list_taniya = []\n",
    "\n",
    "idx = 0\n",
    "while idx < len(list_names):\n",
    "    student = list_names[idx]\n",
    "    print(\"processing:\", student)\n",
    "    if \"taniya\" in student:\n",
    "        list_taniya.append(student)\n",
    "    idx += 1\n",
    "    \n",
    "    print(\"taniya in student:\", list_taniya)"
   ]
  },
  {
   "cell_type": "code",
   "execution_count": 23,
   "metadata": {},
   "outputs": [
    {
     "name": "stdout",
     "output_type": "stream",
     "text": [
      "processing: eza\n",
      "taniya in student: []\n",
      "processing: idfi\n",
      "taniya in student: []\n",
      "processing: septy\n",
      "taniya in student: ['yoanita']\n",
      "processing: tiurma\n",
      "taniya in student: ['yoanita']\n",
      "processing: windi\n",
      "taniya in student: ['yoanita']\n"
     ]
    }
   ],
   "source": [
    "list_names = [\"eza\", \"idfi\", \"yoanita\", \"septy\", \"tiurma\", \"windi\",\n",
    "              \"idfi taniya\", \"idfi taniyakusuma\"]\n",
    "list_taniya = []\n",
    "\n",
    "idx = 0\n",
    "while idx < len(list_names):\n",
    "    student = list_names[idx]\n",
    "    idx += 1\n",
    "\n",
    "    if \"ani\" in student:\n",
    "        list_taniya.append(student)\n",
    "        continue\n",
    "    print(\"processing:\", student)\n",
    "    \n",
    "    print(\"taniya in student:\", list_taniya)"
   ]
  },
  {
   "cell_type": "markdown",
   "metadata": {},
   "source": [
    "#### For Loop "
   ]
  },
  {
   "cell_type": "code",
   "execution_count": 31,
   "metadata": {},
   "outputs": [
    {
     "name": "stdout",
     "output_type": "stream",
     "text": [
      "['idfi taniya', 'idfi taniyakusuma']\n"
     ]
    }
   ],
   "source": [
    "list_taniya = list()\n",
    "for student in list_names:\n",
    "    if \"taniya\" in student.lower():\n",
    "        list_taniya.append(student)\n",
    "        continue\n",
    "        print (\"processing:\", student)\n",
    "print(list_taniya)"
   ]
  },
  {
   "cell_type": "code",
   "execution_count": 34,
   "metadata": {},
   "outputs": [
    {
     "name": "stdout",
     "output_type": "stream",
     "text": [
      "(110, 19) <class 'tuple'>\n",
      "x = 110, y = 19\n"
     ]
    }
   ],
   "source": [
    "coord = 110, 19\n",
    "print(coord, type(coord))\n",
    "x, y = list(coord)\n",
    "print(F\"x = {x}, y = {y}\")"
   ]
  },
  {
   "cell_type": "code",
   "execution_count": null,
   "metadata": {},
   "outputs": [],
   "source": [
    "dates = [\"2020-08-01\", \"2020-09-01\"]\n",
    "\n",
    "for date in dates:\n",
    "    day = int(list(date.split(\"-\")[-1])[-1])"
   ]
  },
  {
   "cell_type": "code",
   "execution_count": 37,
   "metadata": {},
   "outputs": [],
   "source": [
    "from datetime import datetime, timedelta"
   ]
  },
  {
   "cell_type": "code",
   "execution_count": 38,
   "metadata": {},
   "outputs": [
    {
     "name": "stdout",
     "output_type": "stream",
     "text": [
      "2020-11-24 22:12:25.190668\n"
     ]
    }
   ],
   "source": [
    "now = datetime.now()\n",
    "print(now)"
   ]
  },
  {
   "cell_type": "code",
   "execution_count": null,
   "metadata": {},
   "outputs": [],
   "source": []
  }
 ],
 "metadata": {
  "kernelspec": {
   "display_name": "Python 3",
   "language": "python",
   "name": "python3"
  },
  "language_info": {
   "codemirror_mode": {
    "name": "ipython",
    "version": 3
   },
   "file_extension": ".py",
   "mimetype": "text/x-python",
   "name": "python",
   "nbconvert_exporter": "python",
   "pygments_lexer": "ipython3",
   "version": "3.8.3"
  }
 },
 "nbformat": 4,
 "nbformat_minor": 4
}
